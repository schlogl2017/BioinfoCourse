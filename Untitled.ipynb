{
 "cells": [
  {
   "cell_type": "code",
   "execution_count": 66,
   "metadata": {},
   "outputs": [],
   "source": [
    "import gzip\n",
    "import random\n",
    "import os\n",
    "import numpy as np\n",
    "import itertools\n",
    "from collections import Counter, defaultdict\n",
    "import matplotlib\n",
    "import matplotlib.pyplot as plt\n",
    "plt.style.use('classic')"
   ]
  },
  {
   "cell_type": "code",
   "execution_count": 61,
   "metadata": {},
   "outputs": [],
   "source": [
    "style = ['Solarize_Light2', '_classic_test_patch', 'bmh', 'classic', 'dark_background', 'fast', 'fivethirtyeight', 'ggplot', 'grayscale', 'seaborn', 'seaborn-bright', 'seaborn-colorblind', 'seaborn-dark', 'seaborn-dark-palette', 'seaborn-darkgrid', 'seaborn-deep', 'seaborn-muted', 'seaborn-notebook', 'seaborn-paper', 'seaborn-pastel', 'seaborn-poster', 'seaborn-talk', 'seaborn-ticks', 'seaborn-white', 'seaborn-whitegrid', 'tableau-colorblind10']"
   ]
  },
  {
   "cell_type": "code",
   "execution_count": 2,
   "metadata": {},
   "outputs": [],
   "source": [
    "alphabet_dna = ['A','C','G','T']"
   ]
  },
  {
   "cell_type": "code",
   "execution_count": 3,
   "metadata": {},
   "outputs": [],
   "source": [
    "def is_header(line):\n",
    "    \"\"\"Check if the line starts with '>'.\"\"\"\n",
    "    return line[0] == '>'\n",
    "\n",
    "\n",
    "def parse_fasta_file(filename):\n",
    "    \"\"\"It reads and returns a name and the sequence from a file (compressed or not).\"\"\"\n",
    "    if filename.endswith('.gz'):\n",
    "        opener = lambda filename: gzip.open(filename, 'rt')\n",
    "    else:\n",
    "        opener = lambda filename: open(filename, 'r')\n",
    "\n",
    "    with opener(filename) as f:\n",
    "        fasta_iter = (it[1] for it in itertools.groupby(f, is_header))\n",
    "        for name in fasta_iter:\n",
    "            name = name.__next__()[1:].strip()\n",
    "            sequences = ''.join(seq.strip() for seq in fasta_iter.__next__())\n",
    "            yield name, sequences"
   ]
  },
  {
   "cell_type": "code",
   "execution_count": 4,
   "metadata": {},
   "outputs": [],
   "source": [
    "def nuc_count(sequence, alphabet):\n",
    "    sequence = sequence.upper()\n",
    "    return {base: sequence.count(base) for base in sequence if base in alphabet}"
   ]
  },
  {
   "cell_type": "code",
   "execution_count": 5,
   "metadata": {},
   "outputs": [],
   "source": [
    "def alternative_bases_counter(sequence):\n",
    "    seq = sequence.upper()\n",
    "    counter = defaultdict(int)\n",
    "    alternative = ['R', 'Y', 'S', 'W', 'K', 'M', 'B', 'D', 'H', 'V', 'N']\n",
    "    for base in seq:\n",
    "        if base in alternative:\n",
    "            counter[base] += 1\n",
    "        else:\n",
    "            counter[base] += 0\n",
    "    return counter"
   ]
  },
  {
   "cell_type": "code",
   "execution_count": 6,
   "metadata": {},
   "outputs": [],
   "source": [
    "def nuc_frequency(sequence, alphabet):\n",
    "    ns = alternative_bases_counter(sequence)\n",
    "    l_seq = len(sequence) - sum(ns.values())\n",
    "    counts = nuc_count(sequence, alphabet)\n",
    "    return {base: (value / l_seq) for base, value in counts.items()}"
   ]
  },
  {
   "cell_type": "code",
   "execution_count": 7,
   "metadata": {},
   "outputs": [],
   "source": [
    "def get_gc_content(sequence):\n",
    "    \"\"\"Returns the gc content of a genome.\"\"\"\n",
    "    len_seq = len(sequence) - sum(alternative_bases_counter(sequence).values())\n",
    "    sequence = sequence.upper()\n",
    "    c = sequence.count('C')\n",
    "    g = sequence.count('G')\n",
    "    return round((c + g) / len_seq, 4)"
   ]
  },
  {
   "cell_type": "code",
   "execution_count": 8,
   "metadata": {},
   "outputs": [],
   "source": [
    "def get_at_content(sequence):\n",
    "    \"\"\"Returns the at content of a genome.\"\"\"\n",
    "    return 1 - get_gc_content(sequence)"
   ]
  },
  {
   "cell_type": "code",
   "execution_count": 9,
   "metadata": {},
   "outputs": [],
   "source": [
    "def get_at_gc_ratio(sequence):\n",
    "    \"\"\"Returns the at/gc ratio of a genome.\"\"\"\n",
    "    return get_at_content(sequence) / get_gc_content(sequence)"
   ]
  },
  {
   "cell_type": "code",
   "execution_count": 10,
   "metadata": {},
   "outputs": [],
   "source": [
    "def get_strand_complement(sequence):\n",
    "    \"\"\"Returns the complement strand of the genome.\"\"\"\n",
    "    seq = sequence.upper()\n",
    "    change = str.maketrans('ACGT', 'TGCA')\n",
    "    return seq.translate(change)"
   ]
  },
  {
   "cell_type": "code",
   "execution_count": 25,
   "metadata": {},
   "outputs": [],
   "source": [
    "def get_reverse_complement(sequence):\n",
    "    \"\"\"Returns the reverse complement strand of the genome.\"\"\"\n",
    "    seq = sequence.upper()\n",
    "    return get_strand_complement(seq)[::-1]"
   ]
  },
  {
   "cell_type": "code",
   "execution_count": 26,
   "metadata": {},
   "outputs": [],
   "source": [
    "def create_random_sequence( alphabet, nuc_freqs, n):\n",
    "    return ''.join(np.random.choice(alphabet, p=nuc_freqs) for _ in range(n))"
   ]
  },
  {
   "cell_type": "code",
   "execution_count": 27,
   "metadata": {},
   "outputs": [],
   "source": [
    "seq1 = create_random_sequence(alphabet_dna, [0.25, 0.25, 0.25, 0.25], 565)"
   ]
  },
  {
   "cell_type": "code",
   "execution_count": 28,
   "metadata": {},
   "outputs": [],
   "source": [
    "def kmer_count(sequence, alphabet, k=1):\n",
    "    seq = sequence.upper()\n",
    "    seq_len = len(seq)\n",
    "    kmers =  [seq[i:i+k] for i in range(0, seq_len - k + 1)]\n",
    "    filterd_kmers = [kmer for kmer in kmers if all(base in set(alphabet) for base in kmer)]\n",
    "    return Counter(filterd_kmers)"
   ]
  },
  {
   "cell_type": "code",
   "execution_count": 29,
   "metadata": {},
   "outputs": [],
   "source": [
    "def print_kmers_stats(sequence, alphabet, start, k):\n",
    "    seq = sequence.upper()\n",
    "    print('  k     k-mers              4^k      N-k+1          missing   repeated')\n",
    "    for k in range(start, k):\n",
    "        kmers = kmer_count(seq, alphabet, k)\n",
    "        print(\"%3d %10d %16d %10d %16d %10d\" % (k, \n",
    "                                                len(kmers), \n",
    "                                                4**k, \n",
    "                                                (len(seq)-1)-k+1, \n",
    "                                                4**k-len(kmers), \n",
    "                                                (len(seq)-1)-k+1-len(kmers)))\n",
    "    return"
   ]
  },
  {
   "cell_type": "code",
   "execution_count": null,
   "metadata": {},
   "outputs": [],
   "source": [
    "print_kmers_stats(seq, alphabet_dna, 3, 25)"
   ]
  },
  {
   "cell_type": "code",
   "execution_count": null,
   "metadata": {},
   "outputs": [],
   "source": [
    "dict_kmer = kmer_count(seq, alphabet_dna, 10)\n",
    "seq_len = len(seq)"
   ]
  },
  {
   "cell_type": "code",
   "execution_count": 30,
   "metadata": {},
   "outputs": [],
   "source": [
    "def kmers_frequency(kmers_dict):\n",
    "    num_kmers = len(kmers_dict.keys())\n",
    "    kmer_freq = defaultdict(float)\n",
    "    for kmer, count in kmers_dict.items():\n",
    "        kmer_freq[kmer] = (count / num_kmers)\n",
    "    return kmer_freq    "
   ]
  },
  {
   "cell_type": "code",
   "execution_count": 31,
   "metadata": {},
   "outputs": [],
   "source": [
    "def kmer_positions(sequence, k):\n",
    "    \"\"\" returns the position of all k-mers in sequence as a dictionary\"\"\"\n",
    "    seq = sequence.upper()\n",
    "    kmer_position = {}\n",
    "    for i in range(1, len(seq) - k + 1):\n",
    "        kmer = seq[i:i+k]\n",
    "        kmer_position[kmer] = kmer_position.get(kmer,[]) + [i]\n",
    "    # combine kmers with their reverse complements\n",
    "    pair_position = {}\n",
    "    for kmer, pos_lst in kmer_position.items():\n",
    "        krev = get_reverse_complement(kmer)\n",
    "        if (kmer < krev):\n",
    "            pair_position[kmer] = sorted(pos_lst + kmer_position.get(krev, []))\n",
    "        elif (krev < kmer):\n",
    "            pair_position[krev] = sorted(kmer_position.get(krev, []) + pos_lst)\n",
    "        else:\n",
    "            pair_position[kmer] = pos_lst\n",
    "    return pair_position"
   ]
  },
  {
   "cell_type": "code",
   "execution_count": 32,
   "metadata": {},
   "outputs": [],
   "source": [
    "def kmers_clumps(sequence, k, w, t):\n",
    "    \"\"\" Find clumps of repeated k-mers in string. A clump occurs when t or more k-mers appear \n",
    "        within a window of size w. A list of (k-mer, position, count) tuples is returned \n",
    "        clumpList = kmers_clumps(seq, 9, 500, 6)\n",
    "        print(len(clumpList))\n",
    "        print([clumpList[i] for i in range(min(20,len(clumpList)))])\n",
    "    \"\"\"\n",
    "    seq = sequence.upper()\n",
    "    clumps = []\n",
    "    kmers = kmer_positions(seq, k)\n",
    "    for kmer, pos in kmers.items():\n",
    "        for start in range(len(pos) - t):\n",
    "            end = start + t - 1\n",
    "            while ((pos[end] - pos[start]) <= w - k):\n",
    "                end += 1\n",
    "                if (end >= len(pos)):\n",
    "                    break\n",
    "            if (end - start >= t):\n",
    "                clumps.append((kmer, pos[start], end - start))\n",
    "    return clumps"
   ]
  },
  {
   "cell_type": "code",
   "execution_count": 33,
   "metadata": {},
   "outputs": [],
   "source": [
    "def check_is_palindrome(sequence, kmer):\n",
    "    \"\"\"Returns True if the sequence is palindromic other wise\n",
    "    False.\"\"\"\n",
    "    seq = sequence.upper()\n",
    "    kmer = kmer.upper()\n",
    "    return seq.find(kmer[::-1]) == 0"
   ]
  },
  {
   "cell_type": "code",
   "execution_count": 34,
   "metadata": {},
   "outputs": [],
   "source": [
    "def get_palindromes(sequence, alphabet, k):\n",
    "    \"\"\"Returns the count of all the palindromic\n",
    "    substrings of a genome.\"\"\"\n",
    "    kmers = list(kmer_count(sequence, alphabet, k).keys())\n",
    "    rev_kmers = [get_reverse_complement(kmer) for kmer in kmers]\n",
    "    palindromes = set()\n",
    "    for mer1, mer2 in zip(kmers, rev_kmers):\n",
    "        if mer1 == mer2:\n",
    "            palindromes.add((mer1, mer2))\n",
    "    return palindromes"
   ]
  },
  {
   "cell_type": "code",
   "execution_count": 35,
   "metadata": {},
   "outputs": [],
   "source": [
    "def get_chunks(sequence, window_size, step=1):\n",
    "    \"\"\"Returns a chunk of length of window_size and the end of the window size\"\"\"\n",
    "    k = len(sequence)\n",
    "    for i in range(0, k - window_size + 1, step):\n",
    "        end = i + window_size\n",
    "        chunk = sequence[i:i + window_size]\n",
    "        assert len(chunk) == window_size\n",
    "        yield chunk, end"
   ]
  },
  {
   "cell_type": "code",
   "execution_count": 36,
   "metadata": {},
   "outputs": [],
   "source": [
    "def gc_skew(sequence):\n",
    "    \"\"\"Finds the genome GC skew.\"\"\"\n",
    "    seq = sequence.upper()\n",
    "    half = len(sequence) // 2\n",
    "    genome = np.frombuffer(seq.encode() + seq.encode(), dtype='uint8')\n",
    "    g = np.concatenate(([0], np.array(genome == ord('G'), dtype='uint8').cumsum()))\n",
    "    c = np.concatenate(([0], np.array(genome == ord('C'), dtype='uint8').cumsum()))\n",
    "    gc = g - c\n",
    "    skew = gc[half:(half + len(sequence))] - gc[0:len(sequence)] + \\\n",
    "           gc[(len(sequence) - half):(2 * len(sequence) - half)] - gc[len(sequence):(2 * len(sequence))]\n",
    "    return skew"
   ]
  },
  {
   "cell_type": "code",
   "execution_count": 37,
   "metadata": {},
   "outputs": [],
   "source": [
    "def get_multinomial_model(sequence, alphabet):\n",
    "    \"\"\"Returns a simple multinomial probabilistic model\"\"\"\n",
    "    return nuc_frequency(sequence, alphabet)"
   ]
  },
  {
   "cell_type": "code",
   "execution_count": 38,
   "metadata": {},
   "outputs": [],
   "source": [
    "def get_markov_model(sequence):\n",
    "    \"\"\"Returns a simple Markov model\"\"\"\n",
    "    alphabet = set(sequence.upper())\n",
    "    mkm = dict()\n",
    "    for i, base in enumerate(alphabet):\n",
    "        intervals = sorted([0] + [random.random() for _ in range(3)] + [1])\n",
    "        probs = [intervals[i+1] - intervals[i] for i in range(4)]\n",
    "        mkm[base] = {base: prob for base, prob in zip(alphabet, probs)}\n",
    "    return mkm"
   ]
  },
  {
   "cell_type": "code",
   "execution_count": 39,
   "metadata": {},
   "outputs": [
    {
     "name": "stdout",
     "output_type": "stream",
     "text": [
      "757\n",
      "[('AGAAACACC', 2836486, 6), ('AGAAACACC', 2836608, 6), ('AGAAACACC', 2836913, 7), ('AGAAACACC', 2836974, 7), ('AGAAACACC', 2837035, 6), ('AGAAACACC', 2837218, 7), ('AGAAACACC', 2837279, 7), ('AGAAACACC', 2837340, 6), ('AGAAACACC', 2837950, 6), ('ACAGAAACA', 2532125, 7), ('ACAGAAACA', 2532131, 6), ('CAGAAACAG', 2532124, 7), ('CAGAAACAG', 2532130, 6), ('AAAAATCAA', 1116002, 6), ('CAAAAATCA', 1116001, 6), ('GATTTTTGA', 1116000, 6), ('AAACACCCC', 2836118, 9), ('AAACACCCC', 2836179, 9), ('AAACACCCC', 2836240, 9), ('AAACACCCC', 2836301, 9)]\n"
     ]
    }
   ],
   "source": [
    "filename = 'Data/vibrio_col.fasta'\n",
    "\n",
    "for name, seq in parse_fasta_file(filename):\n",
    "     clumpList = kmers_clumps(seq, 9, 500, 6)\n",
    "print(len(clumpList))\n",
    "print([clumpList[i] for i in range(min(20,len(clumpList)))])"
   ]
  },
  {
   "cell_type": "code",
   "execution_count": 73,
   "metadata": {},
   "outputs": [],
   "source": [
    "def get_top_n_kmers(sequence, k):\n",
    "    kmers = kmer_positions(seq, k)\n",
    "    # find kmers appearing in the most clumps\n",
    "    mer_clump = {}\n",
    "    for kmer, start, clumpSize in clumpList:\n",
    "        mer_clump[kmer] = mer_clump.get(kmer,0) + 1\n",
    "    top10 = [k for k in sorted(mer_clump, reverse=True, key=mer_clump.get)][:9]\n",
    "    return top10"
   ]
  },
  {
   "cell_type": "code",
   "execution_count": 74,
   "metadata": {},
   "outputs": [
    {
     "data": {
      "text/plain": [
       "['ACCTGCGTG',\n",
       " 'GCGTGGGGA',\n",
       " 'CCCACGCAG',\n",
       " 'ACGCAGGTG',\n",
       " 'GGGGAAGAC',\n",
       " 'CGTGGGGAA',\n",
       " 'CCACGCAGG',\n",
       " 'CCCCACGCA',\n",
       " 'TCTTCCCCA']"
      ]
     },
     "execution_count": 74,
     "metadata": {},
     "output_type": "execute_result"
    }
   ],
   "source": [
    "get_top_n_kmers(seq, 9)"
   ]
  },
  {
   "cell_type": "code",
   "execution_count": 41,
   "metadata": {},
   "outputs": [],
   "source": [
    "OriCStart = 151887"
   ]
  },
  {
   "cell_type": "code",
   "execution_count": 70,
   "metadata": {},
   "outputs": [],
   "source": [
    "def plot_kmer_frequencies(start, top_10_kmers):\n",
    "    plt.figure(num=None, figsize=(16, 6), dpi=100, facecolor='w', edgecolor='k')\n",
    "    plt.plot([start, start], [0,10], 'r--')\n",
    "    for n, kmer in enumerate(top_10_kmers):\n",
    "        positions = kmers[kmer]\n",
    "        plt.text(1120000, n + 0.4, kmer, fontsize=10)\n",
    "        plt.plot(positions, [n + 0.5 for i in range(len(positions))], 'o', markersize=4.0)\n",
    "    limit = plt.xlim((0,1200000))\n",
    "    plt.title('Most frequent k-mers')\n",
    "    plt.xlabel('Sequence length')\n",
    "    plt.ylabel('Number sequences')\n",
    "    plt.tight_layout()\n",
    "    return plt.show()"
   ]
  },
  {
   "cell_type": "code",
   "execution_count": 71,
   "metadata": {},
   "outputs": [
    {
     "data": {
      "image/png": "[encoded data removed]",
      "text/plain": [
       "<Figure size 1600x600 with 1 Axes>"
      ]
     },
     "metadata": {},
     "output_type": "display_data"
    }
   ],
   "source": [
    "plot_kmer_frequencies(OriCStart, top10)"
   ]
  },
  {
   "cell_type": "code",
   "execution_count": 78,
   "metadata": {},
   "outputs": [],
   "source": [
    "oric = 'aactctatacctcctttttgtcgaatttgtgtgatttatagagaaaatcttattaactgaaac\\\n",
    "taaaatggtaggtttggtggtaggttttgtgtacattttgtagtatctgatttttaattacat\\\n",
    "accgtatattgtattaaattgacgaacaattgcatggaattgaatatatgcaaaacaaaccta\\\n",
    "ccaccaaactctgtattgaccattttaggacaacttcagggtggtaggtttctgaagctctca\\\n",
    "tcaatagactattttagtctttacaaacaatattaccgttcagattcaagattctacaacgct\\\n",
    "gttttaatgggcgttgcagaaaacttaccacctaaaatccagtatccaagccgatttcagaga\\\n",
    "aacctaccacttacctaccacttacctaccacccgggtggtaagttgcagacattattaaaaa\\\n",
    "cctcatcagaagcttgttcaaaaatttcaatactcgaaacctaccacctgcgtcccctattat\\\n",
    "ttactactactaataatagcagtataattgatctgaaaagaggtggtaaaaaa'"
   ]
  },
  {
   "cell_type": "code",
   "execution_count": null,
   "metadata": {},
   "outputs": [],
   "source": [
    "nuc_count(seq, alphabet_dna)"
   ]
  },
  {
   "cell_type": "code",
   "execution_count": null,
   "metadata": {},
   "outputs": [],
   "source": []
  }
 ],
 "metadata": {
  "kernelspec": {
   "display_name": "Python 3",
   "language": "python",
   "name": "python3"
  },
  "language_info": {
   "codemirror_mode": {
    "name": "ipython",
    "version": 3
   },
   "file_extension": ".py",
   "mimetype": "text/x-python",
   "name": "python",
   "nbconvert_exporter": "python",
   "pygments_lexer": "ipython3",
   "version": "3.7.6"
  }
 },
 "nbformat": 4,
 "nbformat_minor": 4
}
