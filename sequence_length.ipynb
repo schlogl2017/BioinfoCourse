{
 "cells": [
  {
   "cell_type": "code",
   "execution_count": 1,
   "id": "correct-klein",
   "metadata": {},
   "outputs": [],
   "source": [
    "import os\n",
    "import re\n",
    "import operator\n",
    "import gzip\n",
    "import numpy as np\n",
    "import pandas as pd\n",
    "from collections import defaultdict, Counter\n",
    "from fasta_parser import parse_fasta, fasta_reader\n",
    "from system_utils import get_files2, data_generator, get_all_fasta\n",
    "from sequence_utils import get_all_possible_kmers\n",
    "from markov_models import get_expected_higher_markov, get_variance, get_standard_deviation\n",
    "from markov_models import z_scores, get_p_values, get_e_values, gets_selected_kmers\n",
    "from alphabet import iupac_dna"
   ]
  },
  {
   "cell_type": "code",
   "execution_count": 2,
   "id": "hispanic-dominican",
   "metadata": {},
   "outputs": [
    {
     "ename": "KeyboardInterrupt",
     "evalue": "",
     "output_type": "error",
     "traceback": [
      "\u001b[0;31m---------------------------------------------------------------------------\u001b[0m",
      "\u001b[0;31mKeyboardInterrupt\u001b[0m                         Traceback (most recent call last)",
      "\u001b[0;32m<ipython-input-2-a511fb12904d>\u001b[0m in \u001b[0;36m<module>\u001b[0;34m\u001b[0m\n\u001b[0;32m----> 1\u001b[0;31m \u001b[0mlist_file_paths\u001b[0m \u001b[0;34m=\u001b[0m \u001b[0mget_files2\u001b[0m\u001b[0;34m(\u001b[0m\u001b[0;34m'Data/Genomes_splitted'\u001b[0m\u001b[0;34m,\u001b[0m \u001b[0;34m'Chromosomes'\u001b[0m\u001b[0;34m)\u001b[0m\u001b[0;34m\u001b[0m\u001b[0;34m\u001b[0m\u001b[0m\n\u001b[0m",
      "\u001b[0;32m~/Documents/Projetos/genomas_kmers/system_utils.py\u001b[0m in \u001b[0;36mget_files2\u001b[0;34m(dir_name, subdir)\u001b[0m\n\u001b[1;32m     91\u001b[0m         \u001b[0mfull_path\u001b[0m \u001b[0;34m=\u001b[0m \u001b[0mos\u001b[0m\u001b[0;34m.\u001b[0m\u001b[0mpath\u001b[0m\u001b[0;34m.\u001b[0m\u001b[0mjoin\u001b[0m\u001b[0;34m(\u001b[0m\u001b[0mdir_name\u001b[0m\u001b[0;34m,\u001b[0m \u001b[0mentry\u001b[0m\u001b[0;34m,\u001b[0m \u001b[0msubdir\u001b[0m\u001b[0;34m)\u001b[0m\u001b[0;34m\u001b[0m\u001b[0;34m\u001b[0m\u001b[0m\n\u001b[1;32m     92\u001b[0m         \u001b[0;31m# If entry is a directory then get the list of files in this directory\u001b[0m\u001b[0;34m\u001b[0m\u001b[0;34m\u001b[0m\u001b[0;34m\u001b[0m\u001b[0m\n\u001b[0;32m---> 93\u001b[0;31m         \u001b[0;32mif\u001b[0m \u001b[0mos\u001b[0m\u001b[0;34m.\u001b[0m\u001b[0mpath\u001b[0m\u001b[0;34m.\u001b[0m\u001b[0misdir\u001b[0m\u001b[0;34m(\u001b[0m\u001b[0mfull_path\u001b[0m\u001b[0;34m)\u001b[0m\u001b[0;34m:\u001b[0m\u001b[0;34m\u001b[0m\u001b[0;34m\u001b[0m\u001b[0m\n\u001b[0m\u001b[1;32m     94\u001b[0m             \u001b[0mall_files\u001b[0m \u001b[0;34m+=\u001b[0m \u001b[0mget_files\u001b[0m\u001b[0;34m(\u001b[0m\u001b[0mfull_path\u001b[0m\u001b[0;34m)\u001b[0m\u001b[0;34m\u001b[0m\u001b[0;34m\u001b[0m\u001b[0m\n\u001b[1;32m     95\u001b[0m         \u001b[0;32melse\u001b[0m\u001b[0;34m:\u001b[0m\u001b[0;34m\u001b[0m\u001b[0;34m\u001b[0m\u001b[0m\n",
      "\u001b[0;32m~/anaconda3/envs/bioinfo/lib/python3.8/genericpath.py\u001b[0m in \u001b[0;36misdir\u001b[0;34m(s)\u001b[0m\n\u001b[1;32m     40\u001b[0m     \u001b[0;34m\"\"\"Return true if the pathname refers to an existing directory.\"\"\"\u001b[0m\u001b[0;34m\u001b[0m\u001b[0;34m\u001b[0m\u001b[0m\n\u001b[1;32m     41\u001b[0m     \u001b[0;32mtry\u001b[0m\u001b[0;34m:\u001b[0m\u001b[0;34m\u001b[0m\u001b[0;34m\u001b[0m\u001b[0m\n\u001b[0;32m---> 42\u001b[0;31m         \u001b[0mst\u001b[0m \u001b[0;34m=\u001b[0m \u001b[0mos\u001b[0m\u001b[0;34m.\u001b[0m\u001b[0mstat\u001b[0m\u001b[0;34m(\u001b[0m\u001b[0ms\u001b[0m\u001b[0;34m)\u001b[0m\u001b[0;34m\u001b[0m\u001b[0;34m\u001b[0m\u001b[0m\n\u001b[0m\u001b[1;32m     43\u001b[0m     \u001b[0;32mexcept\u001b[0m \u001b[0;34m(\u001b[0m\u001b[0mOSError\u001b[0m\u001b[0;34m,\u001b[0m \u001b[0mValueError\u001b[0m\u001b[0;34m)\u001b[0m\u001b[0;34m:\u001b[0m\u001b[0;34m\u001b[0m\u001b[0;34m\u001b[0m\u001b[0m\n\u001b[1;32m     44\u001b[0m         \u001b[0;32mreturn\u001b[0m \u001b[0;32mFalse\u001b[0m\u001b[0;34m\u001b[0m\u001b[0;34m\u001b[0m\u001b[0m\n",
      "\u001b[0;31mKeyboardInterrupt\u001b[0m: "
     ]
    }
   ],
   "source": [
    "list_file_paths = get_files2('Data/Genomes_splitted', 'Chromosomes')"
   ]
  },
  {
   "cell_type": "code",
   "execution_count": null,
   "id": "honey-three",
   "metadata": {},
   "outputs": [],
   "source": [
    "fasta_paths = get_all_fasta('Data/Genomes_splitted', 'Chromosomes', 'gz')"
   ]
  },
  {
   "cell_type": "code",
   "execution_count": null,
   "id": "flush-pencil",
   "metadata": {},
   "outputs": [],
   "source": [
    "def get_mean_sequence_length(fasta_dict):\n",
    "    \"\"\"\n",
    "    Calculates the sequence length from all fasta files.\n",
    "    \n",
    "    Inputs:\n",
    "        fasta_dict - a dictionary-like object mapping the bacterial genus to\n",
    "                     the complete pathway to the fasta files.\n",
    "    \n",
    "    Outputs:\n",
    "        fasta_length - a dictionary-like object mapping the bacterial genus to\n",
    "                       the mean of all genomes lengths.        \n",
    "    \"\"\"\n",
    "    # initialyze the container\n",
    "    dict_len = defaultdict(int)\n",
    "    # get the genus names and the files pathways\n",
    "    for name, filename in data_generator(fasta_dict):\n",
    "        # add the names to the container\n",
    "        dict_len[name] = dict_len.get(name, [])\n",
    "        # uterates throung the fasta files\n",
    "        for _, seq in parse_fasta(filename):\n",
    "            # aads the genome length to a list\n",
    "            dict_len[name] += [len(seq)]\n",
    "    # get the mean of all genomes from a genus genomes\n",
    "    return {k: sum(cnt)//len(cnt) for k, cnt in dict_len.items()}   "
   ]
  },
  {
   "cell_type": "code",
   "execution_count": null,
   "id": "focal-mississippi",
   "metadata": {},
   "outputs": [],
   "source": [
    "# seq_len_dict = get_mean_sequence_length(fasta_paths)"
   ]
  },
  {
   "cell_type": "code",
   "execution_count": null,
   "id": "killing-danger",
   "metadata": {},
   "outputs": [],
   "source": [
    "def save_chr_lengths(seq_len_dict):\n",
    "    for name in seq_len_dict:\n",
    "        path = os.path.join('Results', 'Lengths')\n",
    "        csv_name = f'chr_lengths.csv'\n",
    "        if not os.path.exists(path):\n",
    "            os.makedirs(path)\n",
    "        df = pd.DataFrame(seq_len_dict.items(), columns=['name', 'length'])\n",
    "        df.to_csv(f'{path}/{csv_name}', header=False, index=False)"
   ]
  },
  {
   "cell_type": "code",
   "execution_count": null,
   "id": "humanitarian-regular",
   "metadata": {},
   "outputs": [],
   "source": [
    "save_chr_lengths(seq_len_dict)"
   ]
  },
  {
   "cell_type": "code",
   "execution_count": 2,
   "id": "accessible-lawrence",
   "metadata": {},
   "outputs": [],
   "source": [
    "def get_len_csv(path):\n",
    "    dict_len = defaultdict(int)\n",
    "    with open(path, 'r') as fh:\n",
    "        for line in fh:\n",
    "            name, length = line.strip('\\n').split(',')\n",
    "            dict_len[name] = dict_len.get(name, 0) + int(length)\n",
    "    return dict_len"
   ]
  },
  {
   "cell_type": "code",
   "execution_count": 3,
   "id": "available-alloy",
   "metadata": {},
   "outputs": [],
   "source": [
    "def get_paths_to_csv_counts(dir_name, sub_dir, sub_sub_dir, names_list):\n",
    "    \"\"\"\n",
    "    Function to get the full paths to kmer count csv files.\n",
    "    \n",
    "    Inputs:\n",
    "        dir_name - string representing the root directory.\n",
    "        sub_dir - string representing a sub directory in the root directory.\n",
    "        sub_sub_dir - string representing a sub directory in the root directory.\n",
    "        names_list - list-like obeject with all genus/species names.\n",
    "        \n",
    "    Outputs:\n",
    "        csv_dict - a dictionary like object mapping the genus/species names to\n",
    "                   the full path to the csv files.\n",
    "    ex: get_count_csvs('Results/Kmers_from_splitted', 'Chromosomes', 'kmers', ['Acidiphilium'])\n",
    "        {'Acidiphilium': \n",
    "        'Results/Kmers_from_splitted/Acidiphilium/Chromosomes/kmers/Acidiphilium_Chromosomes10.csv.gz'}\n",
    "    \"\"\"\n",
    "    # initialize the container\n",
    "    csv_dict = {}\n",
    "    # iterates through names\n",
    "    for name in names_list:\n",
    "        # join the path\n",
    "        # Results/Kmer_splitted/genus/Chromossome/kmers\n",
    "        paths = os.path.join(dir_name, name, sub_dir, sub_sub_dir)\n",
    "        # get the filenames\n",
    "        filenames = ''.join(os.listdir(paths))\n",
    "        # creates the ful path to the csv file\n",
    "        full_paths = os.path.join(paths,filenames)\n",
    "        # add the name and full path to the container\n",
    "        csv_dict[name] = csv_dict.get(name, full_paths)\n",
    "    return csv_dict"
   ]
  },
  {
   "cell_type": "code",
   "execution_count": 4,
   "id": "empirical-subscriber",
   "metadata": {},
   "outputs": [],
   "source": [
    "seq_len_dict = get_len_csv('Results/Lengths/chr_lengths.csv')"
   ]
  },
  {
   "cell_type": "code",
   "execution_count": 5,
   "id": "agreed-jungle",
   "metadata": {},
   "outputs": [
    {
     "data": {
      "text/plain": [
       "{'Acidiphilium': 'Results/Kmers_from_splitted/Acidiphilium/Chromosomes/kmers/Acidiphilium_Chromosomes10.csv.gz'}"
      ]
     },
     "execution_count": 5,
     "metadata": {},
     "output_type": "execute_result"
    }
   ],
   "source": [
    " get_paths_to_csv_counts('Results/Kmers_from_splitted', 'Chromosomes', 'kmers', ['Acidiphilium'])"
   ]
  },
  {
   "cell_type": "code",
   "execution_count": 6,
   "id": "renewable-spanking",
   "metadata": {},
   "outputs": [],
   "source": [
    " names = seq_len_dict.keys()"
   ]
  },
  {
   "cell_type": "code",
   "execution_count": 7,
   "id": "stretch-record",
   "metadata": {},
   "outputs": [],
   "source": [
    "csv_files = get_paths_to_csv_counts('Results/Kmers_from_splitted', 'Chromosomes', 'kmers', names)"
   ]
  },
  {
   "cell_type": "code",
   "execution_count": 8,
   "id": "productive-tutorial",
   "metadata": {},
   "outputs": [
    {
     "data": {
      "text/plain": [
       "'Results/Kmers_from_splitted/Acidiphilium/Chromosomes/kmers/Acidiphilium_Chromosomes10.csv.gz'"
      ]
     },
     "execution_count": 8,
     "metadata": {},
     "output_type": "execute_result"
    }
   ],
   "source": [
    "csv_files['Acidiphilium']"
   ]
  },
  {
   "cell_type": "code",
   "execution_count": 9,
   "id": "secure-handy",
   "metadata": {},
   "outputs": [],
   "source": [
    "def get_kmer_count_from_csv(filename):\n",
    "    \"\"\"\n",
    "    Gets the count of all kmers from a csv file.\n",
    "    \n",
    "    Inputs:\n",
    "        filename - a string representing a complete pathway to the csv file.\n",
    "        \n",
    "    Outputs:\n",
    "        kmer_counts - a dictionary-like object mapping the kmers ( a substring of length k)\n",
    "                      to a integer representing the number of time the kmer was counted\n",
    "                      in a string.\n",
    "    \"\"\"\n",
    "    # initialyze the dicitonary/container\n",
    "    kmer_counts = dict()\n",
    "    # check if the file is compressed\n",
    "    name, extension = os.path.splitext(filename)\n",
    "    # if file compressed\n",
    "    if extension == '.gz':\n",
    "        opener = gzip.open(filename, 'rt')\n",
    "    # if not compressed\n",
    "    else:\n",
    "        opener = open(filename, 'r')\n",
    "    # open the compressed csv file\n",
    "    with opener as file:\n",
    "        # skip the header\n",
    "        header = file.readline()\n",
    "        # iterates through the lines\n",
    "        for line in file:\n",
    "            # strip spaces and split the lines in the delimiter\n",
    "            (key, val) = line.strip('\\n').split(\",\")\n",
    "            # add the key and the val to the dicitonary\n",
    "            kmer_counts[key] = int(val)\n",
    "    return kmer_counts"
   ]
  },
  {
   "cell_type": "code",
   "execution_count": 14,
   "id": "fixed-julian",
   "metadata": {},
   "outputs": [
    {
     "data": {
      "text/plain": [
       "'Results/Kmers_from_splitted/Haemophilus/Chromosomes/kmers/Haemophilus_Chromosomes10.csv.gz'"
      ]
     },
     "execution_count": 14,
     "metadata": {},
     "output_type": "execute_result"
    }
   ],
   "source": [
    "csv_files['Haemophilus']"
   ]
  },
  {
   "cell_type": "code",
   "execution_count": 11,
   "id": "beginning-tennis",
   "metadata": {},
   "outputs": [],
   "source": [
    "kmer_list = get_all_possible_kmers(iupac_dna, 6, 6)"
   ]
  },
  {
   "cell_type": "code",
   "execution_count": 30,
   "id": "relevant-character",
   "metadata": {},
   "outputs": [],
   "source": [
    "def get_kmer_stats(seq_len_dict, \n",
    "                   csv_files, \n",
    "                   kmer_list,\n",
    "                   kmax, \n",
    "                   eval_cutoff):\n",
    "    names = sorted(seq_len_dict.keys())\n",
    "    for name in names:\n",
    "        kmer_counts = get_kmer_count_from_csv(csv_files[name])\n",
    "        seq_len = int(seq_len_dict[name])\n",
    "        expected_mers = get_expected_higher_markov(kmer_list, kmer_counts)\n",
    "        variance = get_variance(kmer_list, seq_len, expected_mers)\n",
    "        std = get_standard_deviation(variance)\n",
    "        z_scr = z_scores(expected_mers, kmer_counts, std)\n",
    "        p_val = get_p_values(z_scr)\n",
    "        e_val = get_e_values(kmer_list, p_val)\n",
    "        df_selected, df_to_check = gets_selected_kmers(kmer_list,\n",
    "                                                      kmer_counts,\n",
    "                                                      expected_mers,\n",
    "                                                      z_scr,\n",
    "                                                      p_val,\n",
    "                                                      e_val,\n",
    "                                                      eval_cutoff)"
   ]
  },
  {
   "cell_type": "code",
   "execution_count": 31,
   "id": "statistical-bedroom",
   "metadata": {},
   "outputs": [
    {
     "ename": "KeyboardInterrupt",
     "evalue": "",
     "output_type": "error",
     "traceback": [
      "\u001b[0;31m---------------------------------------------------------------------------\u001b[0m",
      "\u001b[0;31mKeyboardInterrupt\u001b[0m                         Traceback (most recent call last)",
      "\u001b[0;32m<ipython-input-31-f24d6b32085f>\u001b[0m in \u001b[0;36m<module>\u001b[0;34m\u001b[0m\n\u001b[0;32m----> 1\u001b[0;31m \u001b[0mdf_selected\u001b[0m\u001b[0;34m,\u001b[0m \u001b[0mdf_to_check\u001b[0m \u001b[0;34m=\u001b[0m \u001b[0mget_kmer_stats\u001b[0m\u001b[0;34m(\u001b[0m\u001b[0mseq_len_dict\u001b[0m\u001b[0;34m,\u001b[0m \u001b[0mcsv_files\u001b[0m\u001b[0;34m,\u001b[0m \u001b[0mkmer_list\u001b[0m\u001b[0;34m,\u001b[0m \u001b[0;36m4\u001b[0m\u001b[0;34m,\u001b[0m \u001b[0;36m0.01\u001b[0m\u001b[0;34m)\u001b[0m\u001b[0;34m\u001b[0m\u001b[0;34m\u001b[0m\u001b[0m\n\u001b[0m",
      "\u001b[0;32m<ipython-input-30-d0f3dcc1f65d>\u001b[0m in \u001b[0;36mget_kmer_stats\u001b[0;34m(seq_len_dict, csv_files, kmer_list, kmax, eval_cutoff)\u001b[0m\n\u001b[1;32m      6\u001b[0m     \u001b[0mnames\u001b[0m \u001b[0;34m=\u001b[0m \u001b[0msorted\u001b[0m\u001b[0;34m(\u001b[0m\u001b[0mseq_len_dict\u001b[0m\u001b[0;34m.\u001b[0m\u001b[0mkeys\u001b[0m\u001b[0;34m(\u001b[0m\u001b[0;34m)\u001b[0m\u001b[0;34m)\u001b[0m\u001b[0;34m\u001b[0m\u001b[0;34m\u001b[0m\u001b[0m\n\u001b[1;32m      7\u001b[0m     \u001b[0;32mfor\u001b[0m \u001b[0mname\u001b[0m \u001b[0;32min\u001b[0m \u001b[0mnames\u001b[0m\u001b[0;34m:\u001b[0m\u001b[0;34m\u001b[0m\u001b[0;34m\u001b[0m\u001b[0m\n\u001b[0;32m----> 8\u001b[0;31m         \u001b[0mkmer_counts\u001b[0m \u001b[0;34m=\u001b[0m \u001b[0mget_kmer_count_from_csv\u001b[0m\u001b[0;34m(\u001b[0m\u001b[0mcsv_files\u001b[0m\u001b[0;34m[\u001b[0m\u001b[0mname\u001b[0m\u001b[0;34m]\u001b[0m\u001b[0;34m)\u001b[0m\u001b[0;34m\u001b[0m\u001b[0;34m\u001b[0m\u001b[0m\n\u001b[0m\u001b[1;32m      9\u001b[0m         \u001b[0mseq_len\u001b[0m \u001b[0;34m=\u001b[0m \u001b[0mint\u001b[0m\u001b[0;34m(\u001b[0m\u001b[0mseq_len_dict\u001b[0m\u001b[0;34m[\u001b[0m\u001b[0mname\u001b[0m\u001b[0;34m]\u001b[0m\u001b[0;34m)\u001b[0m\u001b[0;34m\u001b[0m\u001b[0;34m\u001b[0m\u001b[0m\n\u001b[1;32m     10\u001b[0m         \u001b[0mexpected_mers\u001b[0m \u001b[0;34m=\u001b[0m \u001b[0mget_expected_higher_markov\u001b[0m\u001b[0;34m(\u001b[0m\u001b[0mkmer_list\u001b[0m\u001b[0;34m,\u001b[0m \u001b[0mkmer_counts\u001b[0m\u001b[0;34m)\u001b[0m\u001b[0;34m\u001b[0m\u001b[0;34m\u001b[0m\u001b[0m\n",
      "\u001b[0;32m<ipython-input-9-78fadce5d9e5>\u001b[0m in \u001b[0;36mget_kmer_count_from_csv\u001b[0;34m(filename)\u001b[0m\n\u001b[1;32m     30\u001b[0m             \u001b[0;34m(\u001b[0m\u001b[0mkey\u001b[0m\u001b[0;34m,\u001b[0m \u001b[0mval\u001b[0m\u001b[0;34m)\u001b[0m \u001b[0;34m=\u001b[0m \u001b[0mline\u001b[0m\u001b[0;34m.\u001b[0m\u001b[0mstrip\u001b[0m\u001b[0;34m(\u001b[0m\u001b[0;34m'\\n'\u001b[0m\u001b[0;34m)\u001b[0m\u001b[0;34m.\u001b[0m\u001b[0msplit\u001b[0m\u001b[0;34m(\u001b[0m\u001b[0;34m\",\"\u001b[0m\u001b[0;34m)\u001b[0m\u001b[0;34m\u001b[0m\u001b[0;34m\u001b[0m\u001b[0m\n\u001b[1;32m     31\u001b[0m             \u001b[0;31m# add the key and the val to the dicitonary\u001b[0m\u001b[0;34m\u001b[0m\u001b[0;34m\u001b[0m\u001b[0;34m\u001b[0m\u001b[0m\n\u001b[0;32m---> 32\u001b[0;31m             \u001b[0mkmer_counts\u001b[0m\u001b[0;34m[\u001b[0m\u001b[0mkey\u001b[0m\u001b[0;34m]\u001b[0m \u001b[0;34m=\u001b[0m \u001b[0mint\u001b[0m\u001b[0;34m(\u001b[0m\u001b[0mval\u001b[0m\u001b[0;34m)\u001b[0m\u001b[0;34m\u001b[0m\u001b[0;34m\u001b[0m\u001b[0m\n\u001b[0m\u001b[1;32m     33\u001b[0m     \u001b[0;32mreturn\u001b[0m \u001b[0mkmer_counts\u001b[0m\u001b[0;34m\u001b[0m\u001b[0;34m\u001b[0m\u001b[0m\n",
      "\u001b[0;31mKeyboardInterrupt\u001b[0m: "
     ]
    }
   ],
   "source": [
    "df_selected, df_to_check = get_kmer_stats(seq_len_dict, csv_files, kmer_list, 4, 0.01)"
   ]
  },
  {
   "cell_type": "code",
   "execution_count": 29,
   "id": "limited-sample",
   "metadata": {},
   "outputs": [
    {
     "data": {
      "text/html": [
       "<div>\n",
       "<style scoped>\n",
       "    .dataframe tbody tr th:only-of-type {\n",
       "        vertical-align: middle;\n",
       "    }\n",
       "\n",
       "    .dataframe tbody tr th {\n",
       "        vertical-align: top;\n",
       "    }\n",
       "\n",
       "    .dataframe thead th {\n",
       "        text-align: right;\n",
       "    }\n",
       "</style>\n",
       "<table border=\"1\" class=\"dataframe\">\n",
       "  <thead>\n",
       "    <tr style=\"text-align: right;\">\n",
       "      <th></th>\n",
       "      <th>kmer</th>\n",
       "      <th>count</th>\n",
       "      <th>expected</th>\n",
       "      <th>z_score</th>\n",
       "      <th>e_value</th>\n",
       "      <th>p_value</th>\n",
       "    </tr>\n",
       "  </thead>\n",
       "  <tbody>\n",
       "    <tr>\n",
       "      <th>0</th>\n",
       "      <td>CTCGAG</td>\n",
       "      <td>1085</td>\n",
       "      <td>2788</td>\n",
       "      <td>-32.265466</td>\n",
       "      <td>1.067537e-228</td>\n",
       "      <td>4.372632e-225</td>\n",
       "    </tr>\n",
       "    <tr>\n",
       "      <th>1</th>\n",
       "      <td>CCGCGG</td>\n",
       "      <td>4372</td>\n",
       "      <td>6312</td>\n",
       "      <td>-24.440078</td>\n",
       "      <td>3.208191e-132</td>\n",
       "      <td>1.314075e-128</td>\n",
       "    </tr>\n",
       "    <tr>\n",
       "      <th>2</th>\n",
       "      <td>GTCGAC</td>\n",
       "      <td>1561</td>\n",
       "      <td>2651</td>\n",
       "      <td>-21.177904</td>\n",
       "      <td>7.633817e-100</td>\n",
       "      <td>3.126811e-96</td>\n",
       "    </tr>\n",
       "    <tr>\n",
       "      <th>3</th>\n",
       "      <td>GGATCC</td>\n",
       "      <td>665</td>\n",
       "      <td>1380</td>\n",
       "      <td>-19.250875</td>\n",
       "      <td>6.939963e-83</td>\n",
       "      <td>2.842609e-79</td>\n",
       "    </tr>\n",
       "    <tr>\n",
       "      <th>4</th>\n",
       "      <td>CCCGGG</td>\n",
       "      <td>969</td>\n",
       "      <td>1770</td>\n",
       "      <td>-19.043799</td>\n",
       "      <td>3.698146e-81</td>\n",
       "      <td>1.514761e-77</td>\n",
       "    </tr>\n",
       "    <tr>\n",
       "      <th>...</th>\n",
       "      <td>...</td>\n",
       "      <td>...</td>\n",
       "      <td>...</td>\n",
       "      <td>...</td>\n",
       "      <td>...</td>\n",
       "      <td>...</td>\n",
       "    </tr>\n",
       "    <tr>\n",
       "      <th>615</th>\n",
       "      <td>AGATAG</td>\n",
       "      <td>543</td>\n",
       "      <td>295</td>\n",
       "      <td>14.439715</td>\n",
       "      <td>1.455216e-47</td>\n",
       "      <td>5.960565e-44</td>\n",
       "    </tr>\n",
       "    <tr>\n",
       "      <th>616</th>\n",
       "      <td>GCGCGG</td>\n",
       "      <td>9543</td>\n",
       "      <td>8212</td>\n",
       "      <td>14.704618</td>\n",
       "      <td>3.010472e-49</td>\n",
       "      <td>1.233089e-45</td>\n",
       "    </tr>\n",
       "    <tr>\n",
       "      <th>617</th>\n",
       "      <td>ATCGAG</td>\n",
       "      <td>2999</td>\n",
       "      <td>2276</td>\n",
       "      <td>15.159702</td>\n",
       "      <td>3.268238e-52</td>\n",
       "      <td>1.338670e-48</td>\n",
       "    </tr>\n",
       "    <tr>\n",
       "      <th>618</th>\n",
       "      <td>CCGCGC</td>\n",
       "      <td>10055</td>\n",
       "      <td>8636</td>\n",
       "      <td>15.288050</td>\n",
       "      <td>4.592955e-53</td>\n",
       "      <td>1.881275e-49</td>\n",
       "    </tr>\n",
       "    <tr>\n",
       "      <th>619</th>\n",
       "      <td>CTATCT</td>\n",
       "      <td>576</td>\n",
       "      <td>305</td>\n",
       "      <td>15.518078</td>\n",
       "      <td>1.308877e-54</td>\n",
       "      <td>5.361162e-51</td>\n",
       "    </tr>\n",
       "  </tbody>\n",
       "</table>\n",
       "<p>620 rows × 6 columns</p>\n",
       "</div>"
      ],
      "text/plain": [
       "       kmer  count  expected    z_score        e_value        p_value\n",
       "0    CTCGAG   1085      2788 -32.265466  1.067537e-228  4.372632e-225\n",
       "1    CCGCGG   4372      6312 -24.440078  3.208191e-132  1.314075e-128\n",
       "2    GTCGAC   1561      2651 -21.177904  7.633817e-100   3.126811e-96\n",
       "3    GGATCC    665      1380 -19.250875   6.939963e-83   2.842609e-79\n",
       "4    CCCGGG    969      1770 -19.043799   3.698146e-81   1.514761e-77\n",
       "..      ...    ...       ...        ...            ...            ...\n",
       "615  AGATAG    543       295  14.439715   1.455216e-47   5.960565e-44\n",
       "616  GCGCGG   9543      8212  14.704618   3.010472e-49   1.233089e-45\n",
       "617  ATCGAG   2999      2276  15.159702   3.268238e-52   1.338670e-48\n",
       "618  CCGCGC  10055      8636  15.288050   4.592955e-53   1.881275e-49\n",
       "619  CTATCT    576       305  15.518078   1.308877e-54   5.361162e-51\n",
       "\n",
       "[620 rows x 6 columns]"
      ]
     },
     "execution_count": 29,
     "metadata": {},
     "output_type": "execute_result"
    }
   ],
   "source": [
    "df_selected"
   ]
  },
  {
   "cell_type": "code",
   "execution_count": 36,
   "id": "hungry-creativity",
   "metadata": {},
   "outputs": [],
   "source": [
    "def save_data_frame(df, dir_out, name, sub_dir, sub_sub_dir, kmax, df_type):\n",
    "    path = os.path.join(dir_out, name, sub_dir, sub_sub_dir)\n",
    "    csv_name = f'{name}_{df_type}_{kmax}.csv'\n",
    "    if not os.path.exists(path):\n",
    "        os.makedirs(path)\n",
    "    df.to_csv(f'{path}/{csv_name}', header=False, index=False)"
   ]
  },
  {
   "cell_type": "code",
   "execution_count": 37,
   "id": "atlantic-arrangement",
   "metadata": {},
   "outputs": [],
   "source": [
    "save_data_frame(df_selected, dir_out='Results/Kmer_statistics', name='Avocado', sub_dir='Chromossome', sub_sub_dir='kmers', kmax=6, df_type= 'selected')"
   ]
  },
  {
   "cell_type": "code",
   "execution_count": null,
   "id": "breeding-franklin",
   "metadata": {},
   "outputs": [],
   "source": []
  },
  {
   "cell_type": "code",
   "execution_count": null,
   "id": "closing-termination",
   "metadata": {},
   "outputs": [],
   "source": []
  },
  {
   "cell_type": "code",
   "execution_count": null,
   "id": "alone-thousand",
   "metadata": {},
   "outputs": [],
   "source": [
    "names"
   ]
  },
  {
   "cell_type": "code",
   "execution_count": null,
   "id": "elegant-regression",
   "metadata": {},
   "outputs": [],
   "source": [
    "kmer_counts = get_kmer_count_from_csv(filename)"
   ]
  },
  {
   "cell_type": "code",
   "execution_count": null,
   "id": "alive-interpretation",
   "metadata": {},
   "outputs": [],
   "source": [
    "kmer_list"
   ]
  },
  {
   "cell_type": "code",
   "execution_count": null,
   "id": "residential-weekly",
   "metadata": {},
   "outputs": [],
   "source": []
  },
  {
   "cell_type": "code",
   "execution_count": null,
   "id": "coordinate-metabolism",
   "metadata": {},
   "outputs": [],
   "source": []
  },
  {
   "cell_type": "code",
   "execution_count": null,
   "id": "sudden-chick",
   "metadata": {},
   "outputs": [],
   "source": []
  },
  {
   "cell_type": "code",
   "execution_count": null,
   "id": "listed-jumping",
   "metadata": {},
   "outputs": [],
   "source": []
  },
  {
   "cell_type": "code",
   "execution_count": null,
   "id": "cooked-insured",
   "metadata": {},
   "outputs": [],
   "source": []
  },
  {
   "cell_type": "code",
   "execution_count": null,
   "id": "combined-marine",
   "metadata": {},
   "outputs": [],
   "source": []
  },
  {
   "cell_type": "code",
   "execution_count": null,
   "id": "weekly-algebra",
   "metadata": {},
   "outputs": [],
   "source": []
  },
  {
   "cell_type": "code",
   "execution_count": null,
   "id": "japanese-detector",
   "metadata": {},
   "outputs": [],
   "source": []
  }
 ],
 "metadata": {
  "kernelspec": {
   "display_name": "Python 3",
   "language": "python",
   "name": "python3"
  },
  "language_info": {
   "codemirror_mode": {
    "name": "ipython",
    "version": 3
   },
   "file_extension": ".py",
   "mimetype": "text/x-python",
   "name": "python",
   "nbconvert_exporter": "python",
   "pygments_lexer": "ipython3",
   "version": "3.8.8"
  }
 },
 "nbformat": 4,
 "nbformat_minor": 5
}
