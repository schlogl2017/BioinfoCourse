{
 "cells": [
  {
   "cell_type": "markdown",
   "metadata": {},
   "source": [
    "# homework 04: a plague of sand mice\n",
    "\n",
    "In addition to imports, I prefer to list all functions at the top of the notebook. Below are the packages and functions I'll use to complete this assignment."
   ]
  },
  {
   "cell_type": "code",
   "execution_count": 1,
   "metadata": {},
   "outputs": [],
   "source": [
    "import matplotlib.pyplot as plt\n",
    "import numpy as np\n",
    "from itertools import product"
   ]
  },
  {
   "cell_type": "code",
   "execution_count": 2,
   "metadata": {},
   "outputs": [],
   "source": [
    "def ReadFASTA(filename):\n",
    "    '''\n",
    "    Given: File in FASTA format (sequence names denoted by '>', next line is sequence)\n",
    "    Return: Gene names and sequences into a two-member list of lists\n",
    "    '''\n",
    "    names = [] # empty list of sequence names\n",
    "    seqs = [] # empty list of sequences\n",
    "    \n",
    "    with open(filename) as fasta:\n",
    "        seq = \"\" # empty string for the current sequence\n",
    "        \n",
    "        for line in fasta:\n",
    "            if not line: continue # skip line if blank\n",
    "            \n",
    "            if line[0] == '>': # if '>', get sequence name\n",
    "                names.append(line.rstrip('\\n').replace('>','')) # add seq name, remove '>' from sequence line\n",
    "                \n",
    "                if not seq: continue # if a sequence string isn't stored, don't append to sequence list\n",
    "                \n",
    "                else: # if a sequence has been stored and a new '>' is encountered...\n",
    "                    seqs.append(seq) # append to sequence list and... \n",
    "                    seq = \"\" # re-initialize seq string\n",
    "            \n",
    "            elif line[0] != '>': # if not \n",
    "                seq += line.rstrip('\\n')\n",
    "                \n",
    "        seqs.append(seq) # Read final sequence into data list\n",
    "    \n",
    "    return names, seqs\n",
    "\n",
    "def GetScore(dat, values = 'ACGT', value_weight = [1,-1,-1,1]):\n",
    "    '''\n",
    "    Given: a list dataset, all potential values in the observation, a list of weights for each observation\n",
    "    Return: a scored dataset\n",
    "    '''\n",
    "    value_list = list(values) # create a list out of the weights matrix\n",
    "    scores = np.zeros(len(dat)) # initialize scores array\n",
    "    \n",
    "    for i, sequence in enumerate(dat):\n",
    "        score = 0 # initialize score for each data point\n",
    "        \n",
    "        for j, value in enumerate(value_list):\n",
    "            score += sequence.count(value) * value_weight[j] # add up scores based on weight\n",
    "        scores[i] = score # place score into relevant position\n",
    "        \n",
    "    return scores\n",
    "\n",
    "def ComputeConfusion(positive_dat, negative_dat, threshold_num = 100):\n",
    "    '''\n",
    "    Given: two equal length data lists (one \"positive\", one \"negative\") and a desired number of cutoff values\n",
    "    Return: whether each dataset would be considered true positive/false negative or false positive/true negative\n",
    "    '''\n",
    "    # note that this requires numpy imported as np\n",
    "    \n",
    "    # get min and max scores from all data, use limits to determine range of cutoff values for calling positive/negative\n",
    "    min_score = np.min([positive_dat, negative_dat])\n",
    "    max_score = np.max([positive_dat, negative_dat])\n",
    "    threshold_scores = np.linspace(min_score, max_score, threshold_num)\n",
    "    \n",
    "    # initialize all classifications\n",
    "    TP = np.zeros(threshold_num)\n",
    "    FP = np.zeros(threshold_num)\n",
    "    FN = np.zeros(threshold_num)\n",
    "    TN = np.zeros(threshold_num)\n",
    "    \n",
    "    # compute classifications based on cutoff values. assign equal values to positive\n",
    "    for i, score in enumerate(threshold_scores):\n",
    "        TP[i] = sum(positive_dat >= score)\n",
    "        FP[i] = sum(negative_dat >= score)\n",
    "        FN[i] = sum(positive_dat < score)\n",
    "        TN[i] = sum(negative_dat < score)\n",
    "    \n",
    "    # return confusion matrix in [0] and [1], cutoff values in [2] to do further calculations\n",
    "    return [[TP,FP],[FN,TN],threshold_scores]\n",
    "\n",
    "def ComputeRates(confusion_matrix):\n",
    "    '''\n",
    "    Given: a confusion matrix (0,0 = TP; 0,1 = FP; 1,0 = FN; 1,1 = TN)\n",
    "    Return: rates for each classification\n",
    "    '''\n",
    "    TPR = confusion_matrix[0][0]/(confusion_matrix[0][0] + confusion_matrix[1][0]) # TP/(TP + FN)\n",
    "    FPR = confusion_matrix[0][1]/(confusion_matrix[0][1] + confusion_matrix[1][1]) # FP/(FP + TN)\n",
    "    FNR = confusion_matrix[1][0]/(confusion_matrix[1][0] + confusion_matrix[0][0]) # FN/(TP + FN)\n",
    "    TNR = confusion_matrix[1][1]/(confusion_matrix[1][1] + confusion_matrix[0][1]) # TN/(FP + TN)\n",
    "    \n",
    "    return [[TPR,FPR],[FNR,TNR]]\n",
    "\n",
    "def GetAUC(TPR,FPR):\n",
    "    '''\n",
    "    Given: a true positive rate and a false positive rate (or any x and y list)\n",
    "    Return: a trapezoidal area under the curve estimation (crude integration)\n",
    "    '''\n",
    "    # note: compared this to sklearn.metrics.roc_auc_score, achieved similar results to 3rd decimal in multiple models\n",
    "    # note: these values are non-normalized. if normalized data are desired, input values should be normalized\n",
    "    \n",
    "    auc = 0\n",
    "    for i in range(len(TPR[:-1])):\n",
    "        auc += ((TPR[i] + TPR[i+1]) / 2) * (FPR[i] - FPR[i+1]) # trapezoid area formula ((a+b)/2)*h\n",
    "        \n",
    "    return round(auc, 3)\n",
    "\n",
    "def GetMers(n, values = 'ACGT'):\n",
    "    '''\n",
    "    Given: the number of draws to take from input values and string containing input values\n",
    "    Return: a list of all combinations of input values (with replacement)\n",
    "    '''\n",
    "    # note that this requires itertools.product imported as product\n",
    "    \n",
    "    mer_list = list(product(values, repeat=n)) # create list of tuples of all combinations of values, repeated n times \n",
    "    mers = [] # initialize final list\n",
    "    \n",
    "    for mer in mer_list:\n",
    "        mers.append(''.join(mer)) # combine tuples into a single single\n",
    "    \n",
    "    return mers\n",
    "\n",
    "def TrainMarkov(train_data, unique_list):\n",
    "    '''\n",
    "    Given: a training dataset and a list of unique combinations of values (could be generated by GetMers)\n",
    "    Return: a list of likelihoods, denoting number of times the value appears in the training dataset\n",
    "    '''\n",
    "    look_ahead = len(unique_list[0]) # get the length of a \"mer\"\n",
    "    unique_count = np.zeros(len(unique_list)) # initialize the frequency counter\n",
    "    \n",
    "    for i, sequence in enumerate(train_data):\n",
    "        # within an observation of the training data, iterate until attempting to iterate further would exceed seq length:\n",
    "        \n",
    "        for j in range(len(sequence)-(look_ahead-1)):\n",
    "            mer = sequence[j:j+look_ahead] # get current \"mer\"\n",
    "            unique_count[unique_list.index(mer)] += 1 # find the \"mer\" index in the list of values, add to the count\n",
    "            \n",
    "    return unique_count/sum(unique_count) # normalize the counts such that the total sum would add to 1\n",
    "\n",
    "def TestMarkov(test_data,order,initial_list,full_list,pos_likelihoods,neg_likelihoods, values = 'ACGT'):\n",
    "    '''\n",
    "    Given: test dataset, Markov order, list of n and n+1 length \"mers\", likelihoods for \"positive\" and \"negative\" datasets\n",
    "    Return: log likelihood ratio (log-odds score)\n",
    "    '''\n",
    "    # initialize arrays to hold classification probabilities for each test observation\n",
    "    pos_probs = np.zeros(len(test_data))\n",
    "    neg_probs = np.zeros(len(test_data))\n",
    "    \n",
    "    # get the number of potential values in the dataset to find correct indices for marginal probability calculations\n",
    "    # note that this assumes the \"mer\" lists are in the \"correct\" order created by itertools.product\n",
    "    # please ensure the values variable in this function is equal (in content and order) to variable in GetMers\n",
    "    value_num = len(set(values))\n",
    "    \n",
    "    # iterate through each sequence and calculate initial probability under each dataset\n",
    "    for i, sequence in enumerate(test_data):\n",
    "        mer = sequence[:order] # get the initial sequence\n",
    "        idx = initial_list.index(mer) # find the initial \"mer\"\n",
    "        \n",
    "        # get marginal probability of initial by summing over all n initial \"mers\" in the full n+1 length list of \"mers\"\n",
    "        # again, finding the correct positions depends on the \"mers\" being generated in a predictable way, described above\n",
    "        idx_start = idx*value_num # get the starting index for the position of the initial\n",
    "        idx_end = idx*value_num + value_num # get the ending index for the position of the initial\n",
    "        pos_probs[i] = np.log(sum(pos_likelihoods[idx_start:idx_end])) # calculate initial probabilities for \"positive\" data\n",
    "        neg_probs[i] = np.log(sum(neg_likelihoods[idx_start:idx_end])) # calculate initial probabilities for \"negative\" data\n",
    "        \n",
    "        # calculate the probability of each value given the initial values under both \"positive\" and \"negative\" models\n",
    "        for j in range(len(sequence[:-order])):\n",
    "            # steps for initial are same as above.\n",
    "            initial_mer = sequence[j:j+order]\n",
    "            idx_initial = initial_list.index(initial_mer)\n",
    "            init_start = idx_initial*value_num\n",
    "            init_end = idx_initial*value_num + value_num\n",
    "            \n",
    "            full_mer = sequence[j:j+order+1] # get the full conditional sequence\n",
    "            idx_full = full_list.index(full_mer) # find the index of the full sequence\n",
    "            \n",
    "            # calculate a conditional probability, converting logarithm of ratio -> difference of logs\n",
    "            pos_probs[i] += np.log(pos_likelihoods[idx_full]) - np.log(sum(pos_likelihoods[init_start:init_end]))\n",
    "            neg_probs[i] += np.log(neg_likelihoods[idx_full]) - np.log(sum(neg_likelihoods[init_start:init_end]))\n",
    "                \n",
    "    return pos_probs - neg_probs # calculate and return log-odds score"
   ]
  },
  {
   "cell_type": "markdown",
   "metadata": {},
   "source": [
    "# testing Moriarty's method\n",
    "\n",
    "Now that I've loaded all my packages and functions, I'll begin testing Moriarty's method for myself. Moriarty seems to have created a perfect classifier. However, it distinguishes the pathogen's from random sequences. I'm not sure what application this would be useful for other than confirming the pathogen wasn't created by a random nucleotide generator...\n",
    "\n",
    "Below, I'll use Moriarty's scoring method (+1 for A and T, -1 for C and G) to compare both his random sequences and the sand mouse sequences to the pathogen sequences."
   ]
  },
  {
   "cell_type": "code",
   "execution_count": 3,
   "metadata": {},
   "outputs": [],
   "source": [
    "# Read in data, select only sequences from the .fa files (sequence names not needed)\n",
    "sand_data = ReadFASTA('sandmouse.fa')[1]\n",
    "path_data = ReadFASTA('pathogen.fa')[1]\n",
    "rand_data = ReadFASTA('moriarty-neg.fa')[1]"
   ]
  },
  {
   "cell_type": "code",
   "execution_count": 4,
   "metadata": {
    "scrolled": true
   },
   "outputs": [],
   "source": [
    "# Use Moriarty's method to score each dataset\n",
    "sand_scores = GetScore(sand_data)\n",
    "path_scores = GetScore(path_data)\n",
    "rand_scores = GetScore(rand_data)"
   ]
  },
  {
   "cell_type": "code",
   "execution_count": 5,
   "metadata": {
    "scrolled": true
   },
   "outputs": [
    {
     "data": {
      "text/plain": [
       "Text(0, 0.5, 'Count')"
      ]
     },
     "execution_count": 5,
     "metadata": {},
     "output_type": "execute_result"
    },
    {
     "data": {
      "image/png": "[encoded data removed]",
      "text/plain": [
       "<Figure size 432x288 with 1 Axes>"
      ]
     },
     "metadata": {
      "needs_background": "light"
     },
     "output_type": "display_data"
    }
   ],
   "source": [
    "# Plot histograms of scores for each dataset with 50% transparency to see any overlap\n",
    "plt.hist(sand_scores, alpha = 0.5, bins = 20, density = True, label = 'sand mouse')\n",
    "plt.hist(path_scores, alpha = 0.5, bins = 20, density = True, label = 'pathogen')\n",
    "plt.hist(rand_scores, alpha = 0.5, bins = 20, density = True, color = 'gray', label = 'random')\n",
    "plt.legend()\n",
    "plt.xlabel('Score')\n",
    "plt.ylabel('Count')"
   ]
  },
  {
   "cell_type": "markdown",
   "metadata": {},
   "source": [
    "It looks like I've recreated some of Moriarty's results. The pathogen sequences clearly have scores far greater than the random sequences, indicating that they're relatitvely AT-rich. Unfortunately the sand mouse sequences also appear to be AT-rich. In fact, the score distribution seems almost indistinguishable from the pathogen data.\n",
    "\n",
    "I can summarize the ability to correctly classify pathogen vs. random and pathogen vs. sand mouse sequences using ROC curves and AUC values"
   ]
  },
  {
   "cell_type": "code",
   "execution_count": 6,
   "metadata": {},
   "outputs": [],
   "source": [
    "# Generate confusion matrices for pathogen data vs random data and sand mouse data\n",
    "rand_confusion = ComputeConfusion(path_scores, rand_scores)\n",
    "sand_confusion = ComputeConfusion(path_scores, sand_scores)"
   ]
  },
  {
   "cell_type": "code",
   "execution_count": 7,
   "metadata": {},
   "outputs": [],
   "source": [
    "# Compute classification rates for each model\n",
    "rand_rates = ComputeRates(rand_confusion)\n",
    "sand_rates = ComputeRates(sand_confusion)"
   ]
  },
  {
   "cell_type": "code",
   "execution_count": 8,
   "metadata": {},
   "outputs": [],
   "source": [
    "# Approximate area under the curve for each model\n",
    "rand_auc = GetAUC(rand_rates[0][0],rand_rates[0][1])\n",
    "sand_auc = GetAUC(sand_rates[0][0],sand_rates[0][1])"
   ]
  },
  {
   "cell_type": "code",
   "execution_count": 9,
   "metadata": {},
   "outputs": [
    {
     "data": {
      "text/plain": [
       "Text(0.5, 1.0, 'random model vs. sand mouse model')"
      ]
     },
     "execution_count": 9,
     "metadata": {},
     "output_type": "execute_result"
    },
    {
     "data": {
      "image/png": "[encoded data removed]",
      "text/plain": [
       "<Figure size 432x288 with 1 Axes>"
      ]
     },
     "metadata": {
      "needs_background": "light"
     },
     "output_type": "display_data"
    }
   ],
   "source": [
    "# Plot ROC curves using Moriarty's method\n",
    "plt.plot(rand_rates[0][1],rand_rates[0][0], label='random model - ' + str(rand_auc))\n",
    "plt.plot(sand_rates[0][1],sand_rates[0][0], label='sand mouse model - ' + str(sand_auc))\n",
    "plt.legend()\n",
    "plt.xlabel('false positive rate')\n",
    "plt.ylabel('true positive rate')\n",
    "plt.title('random model vs. sand mouse model')"
   ]
  },
  {
   "cell_type": "markdown",
   "metadata": {},
   "source": [
    "Using Moriarty's method, I've confirmed that pathogen vs. random is a perfect classifier. Unfortunately pathogen vs. sand mouse is a useless classifier, basically equivalent to flipping a (fair) coin and assigning species based on heads or tails. I'll have to develop a better method to distinguish the sequences"
   ]
  },
  {
   "cell_type": "markdown",
   "metadata": {},
   "source": [
    "# markov model\n",
    "\n",
    "We're instructed to create a 2nd order Markov model for this pset. The first step I'll take in creating this model is determining all possible n-length and n+1 combinations of nucleotides, where n is the order of the Markov model. The n-length combinations will be used for initial probabilities and the n+1 combinations for the initial sequence and the additional nucleotide."
   ]
  },
  {
   "cell_type": "code",
   "execution_count": 10,
   "metadata": {},
   "outputs": [],
   "source": [
    "# Generate list of \"mers\" for initial and conditional lists of possible sequences\n",
    "initials = GetMers(2)\n",
    "fulls = GetMers(3)"
   ]
  },
  {
   "cell_type": "markdown",
   "metadata": {},
   "source": [
    "Next, I'll split the data into a training set and a testing set. This will be a 50/50 split, as suggested by the pset."
   ]
  },
  {
   "cell_type": "code",
   "execution_count": 11,
   "metadata": {},
   "outputs": [],
   "source": [
    "# Split data to halves: training set and test set\n",
    "# This method assumes data is already randomized and just takes first half and second half of data\n",
    "sand_train = sand_data[:int(len(sand_data)/2)]\n",
    "sand_test = sand_data[int(len(sand_data)/2):]\n",
    "\n",
    "path_train = path_data[:int(len(path_data)/2)]\n",
    "path_test = path_data[int(len(path_data)/2):]"
   ]
  },
  {
   "cell_type": "markdown",
   "metadata": {},
   "source": [
    "Now the model will be trained. This entails taking each dataset and determining the frequency with which each possible n+1 length sequence appears in each dataset. These frequencies will be normalized to the total number of evaluated n+1 mers and output as the \"likelihoods\" variables.\n",
    "\n",
    "I chose not to calculate likelihoods for the n-length mers and instead to sum over all n-length mers in the n+1 mer list of likelihoods. In my tests, the results were generally equivalent to 2 or 3 decimal places, and I figured the marginalization method was more generalizable and technically more accurate."
   ]
  },
  {
   "cell_type": "code",
   "execution_count": 12,
   "metadata": {},
   "outputs": [],
   "source": [
    "# Train the model by determining frequencies of each unique mer occurring in either dataset\n",
    "sand_likelihoods = TrainMarkov(sand_train,fulls)\n",
    "path_likelihoods = TrainMarkov(path_train,fulls)"
   ]
  },
  {
   "cell_type": "markdown",
   "metadata": {},
   "source": [
    "Finally, evaluate the model and generate the log-odds scores using the test datasets."
   ]
  },
  {
   "cell_type": "code",
   "execution_count": 13,
   "metadata": {},
   "outputs": [],
   "source": [
    "# Generate list of log-odds scores\n",
    "sand_markov_scores = TestMarkov(sand_test,2,initials,fulls,path_likelihoods,sand_likelihoods)\n",
    "path_markov_scores = TestMarkov(path_test,2,initials,fulls,path_likelihoods,sand_likelihoods)"
   ]
  },
  {
   "cell_type": "markdown",
   "metadata": {},
   "source": [
    "Now that we have our scores, I can repeat the steps I took for comparing models using Moriarty's method: plotting the distribution of scores, calculating values to perform further analysis (e.g. sensitivity, FPR, FDR), and plotting a ROC curve."
   ]
  },
  {
   "cell_type": "code",
   "execution_count": 14,
   "metadata": {
    "scrolled": true
   },
   "outputs": [
    {
     "data": {
      "text/plain": [
       "Text(0, 0.5, 'Count')"
      ]
     },
     "execution_count": 14,
     "metadata": {},
     "output_type": "execute_result"
    },
    {
     "data": {
      "image/png": "[encoded data removed]",
      "text/plain": [
       "<Figure size 432x288 with 1 Axes>"
      ]
     },
     "metadata": {
      "needs_background": "light"
     },
     "output_type": "display_data"
    }
   ],
   "source": [
    "# Plot distribution of LLRs\n",
    "plt.hist(sand_markov_scores, alpha = 0.5, bins = 20, density = True, label = 'sand mouse')\n",
    "plt.hist(path_markov_scores, alpha = 0.5, bins = 20, density = True, label = 'pathogen')\n",
    "plt.legend()\n",
    "plt.xlabel('Score')\n",
    "plt.ylabel('Count')"
   ]
  },
  {
   "cell_type": "markdown",
   "metadata": {},
   "source": [
    "These histograms look much better than the completely overlapped histograms observed above. We can compare the models more directly using ROC curves."
   ]
  },
  {
   "cell_type": "code",
   "execution_count": 15,
   "metadata": {
    "scrolled": true
   },
   "outputs": [],
   "source": [
    "# Calculate confusion matrix, classification rates, and AUC value\n",
    "markov_confusion = ComputeConfusion(path_markov_scores, sand_markov_scores)\n",
    "markov_rates = ComputeRates(markov_confusion)\n",
    "markov_auc = GetAUC(markov_rates[0][0],markov_rates[0][1])"
   ]
  },
  {
   "cell_type": "code",
   "execution_count": 16,
   "metadata": {
    "scrolled": true
   },
   "outputs": [
    {
     "data": {
      "text/plain": [
       "Text(0, 0.5, 'true positive rate')"
      ]
     },
     "execution_count": 16,
     "metadata": {},
     "output_type": "execute_result"
    },
    {
     "data": {
      "image/png": "[encoded data removed]",
      "text/plain": [
       "<Figure size 432x288 with 1 Axes>"
      ]
     },
     "metadata": {
      "needs_background": "light"
     },
     "output_type": "display_data"
    }
   ],
   "source": [
    "# Plot 2nd order Markov model, compare to Moriarty's method\n",
    "plt.plot(markov_rates[0][1],markov_rates[0][0], label='second order markov - ' + str(markov_auc))\n",
    "plt.plot(sand_rates[0][1],sand_rates[0][0], label='moriarty method - ' + str(sand_auc))\n",
    "plt.legend()\n",
    "plt.xlabel('false positive rate')\n",
    "plt.ylabel('true positive rate')"
   ]
  },
  {
   "cell_type": "markdown",
   "metadata": {},
   "source": [
    "This model seems to have worked well, especially in comparison to Moriarty's method. The AUC of 0.982 is quite good (I think). However, the utility of this model actually being used to detect pathogen sequences will be evaluated in the next section."
   ]
  },
  {
   "cell_type": "markdown",
   "metadata": {},
   "source": [
    "# how good is this method?\n",
    "\n",
    "To evaluate how useful this method is, I'll need to understand additional metrics about the model. Things like sensitivity, specificity, false positive rate, false detection rate, positive predictive value, and negative predictive value are all important in determining how good a classifier is when being applied to data. Many of these metrics incorporate population frequency, which as we're all learning, matters greatly when interpreting the results of a classifier (or viral test)."
   ]
  },
  {
   "cell_type": "code",
   "execution_count": 17,
   "metadata": {},
   "outputs": [],
   "source": [
    "# Convert rate matrices and thresholds to something more brief and interpretable\n",
    "TPR = markov_rates[0][0]\n",
    "FPR = markov_rates[0][1]\n",
    "FNR = markov_rates[1][0]\n",
    "TNR = markov_rates[1][1]\n",
    "thresholds = markov_confusion[2]"
   ]
  },
  {
   "cell_type": "code",
   "execution_count": 18,
   "metadata": {},
   "outputs": [
    {
     "name": "stdout",
     "output_type": "stream",
     "text": [
      "Estimated false positive rate at 90.0% sensitivity is 0.043.\n",
      "Estimated false detection rate at 90.0% sensitivity is 0.825.\n"
     ]
    }
   ],
   "source": [
    "sensitivity = 0.9 # set sensitivity value based on lab's desired sensitivity of 90%\n",
    "\n",
    "threshold_index = np.max(np.where(TPR >= sensitivity)) # determine index value of threshold for desired sensitivity\n",
    "\n",
    "estFPR = FPR[threshold_index]/(FPR[threshold_index] + TNR[threshold_index]) # perform FP/(FP + TN) at threshold value\n",
    "print('Estimated false positive rate at {}% sensitivity is {}.'.format(sensitivity*100,estFPR))\n",
    "\n",
    "pos_freq = 0.01 # frequency of true positives (pathogen sequences) in sample\n",
    "neg_freq = 0.99 # frequency of true negatives (sand mouse sequences) in sample\n",
    "FDR = (FPR*neg_freq)/((FPR*neg_freq)+(TPR*pos_freq)) # create array of FDR values at all thresholds\n",
    "estFDR = FDR[threshold_index] # determine FDR at selected threshold\n",
    "print('Estimated false detection rate at {}% sensitivity is {}.'.format(sensitivity*100,round(estFDR,3)))"
   ]
  },
  {
   "cell_type": "code",
   "execution_count": 19,
   "metadata": {},
   "outputs": [
    {
     "name": "stdout",
     "output_type": "stream",
     "text": [
      "Estimated false positive rate at 90.0% sensitivity is 0.043.\n",
      "Estimated false detection rate at 90.0% sensitivity is 0.825.\n"
     ]
    }
   ],
   "source": [
    "# Alternatively, these values could've been calculated using a threshold value:\n",
    "\n",
    "threshold = thresholds[threshold_index] # Extract the log-odds scores of the threshold based on desired sensitivity\n",
    "\n",
    "# Calculate the number of false positives and all negative data values\n",
    "num_FP = sum(sand_markov_scores > threshold) # model called false positives\n",
    "num_neg = len(sand_markov_scores) # data-determined negatives\n",
    "estFPR = num_FP/num_neg # incorrectly called positives divided by all data-determined negatives\n",
    "print('Estimated false positive rate at {}% sensitivity is {}.'.format(sensitivity*100,estFPR))\n",
    "\n",
    "# Calculate the number of true positives and predicted false detections\n",
    "num_TP = sum(path_markov_scores > threshold) # number of correctly called positives\n",
    "estFDR = (num_FP*neg_freq)/(num_FP*neg_freq + num_TP*pos_freq) # incorrectly called positives divided by all called positives\n",
    "print('Estimated false detection rate at {}% sensitivity is {}.'.format(sensitivity*100,round(estFDR,3)))"
   ]
  },
  {
   "cell_type": "markdown",
   "metadata": {},
   "source": [
    "At 90% sensitivity, the model does a pretty good job of avoiding false positives. Only 4.3% of sand mouse sequences would be incorrectly classified as pathogen sequences. \n",
    "\n",
    "Unfortunately, the false positive rate doesn't account for potential differences in proportions between negative (sand mouse) and positive (pathogen) sequences. We account for those in the false detection rate, which is 82.5%. This indicates that when a positive sequence is determined by the model, almost 5 out of 6 times, the sequence will actually be a sand mouse transcript.\n",
    "\n",
    "I don't think this means the classifier is useless. However, in order to have more certainty about which sequences belong to the pathogen, the desired sensitivity would need to be decreased. Around a sensitivity of ~25%, no sand mouse sequences in the test data have a high enough LLR to be classified as positive, making both the estimated false positive rate and estimated false detection rate 0%. This may be too low of a sensitivity for the lab's values, but it would result in being able to have extremely high confidence that any positively classified observations are true positives."
   ]
  },
  {
   "cell_type": "markdown",
   "metadata": {},
   "source": [
    "# higher order markov models?\n",
    "\n",
    "The only ways I could think of to make the model more useful would either be to change the composition of the RNAseq samples (maybe some sort of sand mouse depletion method prior to running the RNAseq protocol) or to improve the model. Simulating a sand mouse depletion by changing the frequencies seemed silly, so I chose to improve the model.\n",
    "\n",
    "I assumed the model was chosen to run as a 2nd order as a mix of being computationally manageable while also representing the triplet code of the genome. We would expect that, after a start sequence, every third nucleotide is associated with the previous two because the three nucleotides together would form a limited set of (largely redundant) codons. Using this idea and the ideas discussed in class, I wondered if a 5th order Markov model would do a better job of separating sand mouse and pathogen sequences.\n",
    "\n",
    "In order to test this, I attempted to create a 5th order Markov model. Unfortunately, I quickly ran into an issue: there were about a dozen potential combinations of 6 nucleotides that didn't appear in the pathogen dataset or in the sand mouse dataset (but not the same hexamers in both datasets). These probabilities came up as 0 in the likelihood variable, leading to an undefined value when applying the np.log function. To circumvent this issue, I added a small value (1e-7) to _all_ probabilities while testing the model. This was ~10x smaller than any probability observed in the hexamer likelihoods and in my tests, this did not change AUC values (at least to 3 decimal places). \n",
    "\n",
    "For brevity, I also created a function that would allow me to run through the entire model generation process in a single line. In order to show the progression from lower to higher order models, I created several models, from 1st order to 5th order. For consistency, I used the modified function for all models tested below.\n",
    "\n",
    "Note that this extraneous portion of the notebook might take a while to run (~15 mins on my computer). Definitely no need to run on yours!"
   ]
  },
  {
   "cell_type": "code",
   "execution_count": 20,
   "metadata": {},
   "outputs": [],
   "source": [
    "def TestMarkovHighOrder(test_data,order,initial_list,full_list,pos_likelihoods,neg_likelihoods, not_zero, values = 'ACGT'):\n",
    "    '''\n",
    "    All documentation similar to TestMarkov. Only difference is that 'not_zero' is added to all probability calculations\n",
    "    This addition avoids taking log(0). not_zero value should ideally be small enough to not affect model result\n",
    "    '''\n",
    "    pos_probs = np.zeros(len(test_data))\n",
    "    neg_probs = np.zeros(len(test_data))\n",
    "    value_num = len(set(values))\n",
    "    \n",
    "    for i, sequence in enumerate(test_data):\n",
    "        mer = sequence[:order]\n",
    "        idx = initial_list.index(mer)\n",
    "        idx_start = idx*value_num\n",
    "        idx_end = idx*value_num + value_num\n",
    "        pos_probs[i] = np.log(sum(pos_likelihoods[idx_start:idx_end]+not_zero))\n",
    "        neg_probs[i] = np.log(sum(neg_likelihoods[idx_start:idx_end]+not_zero))\n",
    "\n",
    "        for j in range(len(sequence[:-order])):\n",
    "            initial_mer = sequence[j:j+order]\n",
    "            idx_initial = initial_list.index(initial_mer)\n",
    "            init_start = idx_initial*value_num\n",
    "            init_end = idx_initial*value_num + value_num\n",
    "            full_mer = sequence[j:j+order+1]\n",
    "            idx_full = full_list.index(full_mer)      \n",
    "            pos_probs[i] += np.log(pos_likelihoods[idx_full]+not_zero) - np.log(sum(pos_likelihoods[init_start:init_end]+not_zero))\n",
    "            neg_probs[i] += np.log(neg_likelihoods[idx_full]+not_zero) - np.log(sum(neg_likelihoods[init_start:init_end]+not_zero))\n",
    "                \n",
    "    return pos_probs - neg_probs\n",
    "\n",
    "def RunMarkov(pos_data,neg_data,order,title = 'Markov Model', labels = ['pathogen', 'sand mouse'], data_split = 5000, values = 'ACGT'):\n",
    "    '''\n",
    "    Given: two datasets, a Markov order, an index of where to split the data into train and test\n",
    "    Return: confusion matrix, classification rates, AUC score. Also, plot the LLRs\n",
    "    '''\n",
    "    initials = GetMers(order, values) # get list of initial \"mers\"\n",
    "    fulls = GetMers(order+1, values) # get list of conditional \"mers\"\n",
    "    \n",
    "    # split data into train and test sets\n",
    "    pos_train = pos_data[:data_split]\n",
    "    pos_test = pos_data[data_split:]   \n",
    "    neg_train = neg_data[:data_split]\n",
    "    neg_test = neg_data[data_split:]    \n",
    "\n",
    "    # determine likelihood values for each dataset\n",
    "    pos_likelihoods = TrainMarkov(pos_train,fulls)\n",
    "    neg_likelihoods = TrainMarkov(neg_train,fulls)\n",
    "    \n",
    "    # set value to add to likelihoods to avoid taking log of 0 with high order models\n",
    "    not_zero = 1e-7 # chosen based on minimum probability value of ~1e-6\n",
    "\n",
    "    # calculate LLRs for each model\n",
    "    pos_scores = TestMarkovHighOrder(pos_test,order,initials,fulls,pos_likelihoods,neg_likelihoods, not_zero, values)\n",
    "    neg_scores = TestMarkovHighOrder(neg_test,order,initials,fulls,pos_likelihoods,neg_likelihoods, not_zero, values)\n",
    "    \n",
    "    # plot LLRs\n",
    "    plt.hist(neg_scores, alpha = 0.5, bins = 20, density = True, label = labels[1])\n",
    "    plt.hist(pos_scores, alpha = 0.5, bins = 20, density = True, label = labels[0])\n",
    "    plt.legend()\n",
    "    plt.title(title)\n",
    "    plt.xlabel('score')\n",
    "    plt.ylabel('frequency')\n",
    "    \n",
    "    # calculate confusion matrix, classification rates, AUC\n",
    "    confusion = ComputeConfusion(pos_scores, neg_scores)\n",
    "    rates = ComputeRates(confusion)\n",
    "    auc = GetAUC(rates[0][0],rates[0][1])\n",
    "    \n",
    "    # return list of lists containing confusion matrix, classification rates, area under the curve\n",
    "    return confusion, rates, auc"
   ]
  },
  {
   "cell_type": "code",
   "execution_count": 21,
   "metadata": {
    "scrolled": true
   },
   "outputs": [
    {
     "data": {
      "image/png": "[encoded data removed]",
      "text/plain": [
       "<Figure size 432x288 with 1 Axes>"
      ]
     },
     "metadata": {
      "needs_background": "light"
     },
     "output_type": "display_data"
    }
   ],
   "source": [
    "first_confusion, first_rates, first_auc = RunMarkov(path_data,sand_data,1,'First Order')"
   ]
  },
  {
   "cell_type": "code",
   "execution_count": 22,
   "metadata": {},
   "outputs": [
    {
     "data": {
      "image/png": "[encoded data removed]",
      "text/plain": [
       "<Figure size 432x288 with 1 Axes>"
      ]
     },
     "metadata": {
      "needs_background": "light"
     },
     "output_type": "display_data"
    }
   ],
   "source": [
    "second_confusion, second_rates, second_auc = RunMarkov(path_data,sand_data,2,'second order')"
   ]
  },
  {
   "cell_type": "code",
   "execution_count": null,
   "metadata": {},
   "outputs": [],
   "source": [
    "third_confusion, third_rates, third_auc = RunMarkov(path_data,sand_data,3,'third order')"
   ]
  },
  {
   "cell_type": "code",
   "execution_count": null,
   "metadata": {
    "scrolled": true
   },
   "outputs": [],
   "source": [
    "fourth_confusion, fourth_rates, fourth_auc = RunMarkov(path_data,sand_data,4,'fourth order')"
   ]
  },
  {
   "cell_type": "code",
   "execution_count": null,
   "metadata": {
    "scrolled": false
   },
   "outputs": [],
   "source": [
    "fifth_confusion, fifth_rates, fifth_auc = RunMarkov(path_data,sand_data,5,'fifth order')"
   ]
  },
  {
   "cell_type": "code",
   "execution_count": null,
   "metadata": {
    "scrolled": true
   },
   "outputs": [],
   "source": [
    "plt.plot(first_rates[0][1],first_rates[0][0], label='first order - ' + str(first_auc))\n",
    "plt.plot(second_rates[0][1],second_rates[0][0], label='second order - ' + str(second_auc))\n",
    "plt.plot(third_rates[0][1],third_rates[0][0], label='third order - ' + str(third_auc))\n",
    "plt.plot(fourth_rates[0][1],fourth_rates[0][0], label='fourth order - ' + str(fourth_auc))\n",
    "plt.plot(fifth_rates[0][1],fifth_rates[0][0], label='fifth order - ' + str(fifth_auc))\n",
    "plt.legend()\n",
    "plt.title('markov model comparison')\n",
    "plt.xlabel('false positive rate')\n",
    "plt.ylabel('true positive rate')"
   ]
  },
  {
   "cell_type": "markdown",
   "metadata": {},
   "source": [
    "I expected the first order model to have a lower AUC than the second order. With the third and fourth order models, I assumed they were effectively equivalent to the second order model. But I was surprised to see the fifth order model have a _decreased_ AUC compared to the second order model.\n",
    "\n",
    "I think the simplest explanation I could come up with is that these datasets are not real and might have been generated as independent triplets (which would partially explain why we were instructed to created second order models) rather than protein-coding triplets that might have some association with adjacent amino acid residues. Maybe including an additional, independent, but internally associated triplet decreased the model's ability to discern sequence origin.\n",
    "\n",
    "In any case, choosing to do this forced me to create very generalizable functions in order to rapidly re-run without much additional scripting. So hopefully this will be useful for any future modeling I do!"
   ]
  }
 ],
 "metadata": {
  "kernelspec": {
   "display_name": "Python 3",
   "language": "python",
   "name": "python3"
  },
  "language_info": {
   "codemirror_mode": {
    "name": "ipython",
    "version": 3
   },
   "file_extension": ".py",
   "mimetype": "text/x-python",
   "name": "python",
   "nbconvert_exporter": "python",
   "pygments_lexer": "ipython3",
   "version": "3.7.4"
  }
 },
 "nbformat": 4,
 "nbformat_minor": 4
}
