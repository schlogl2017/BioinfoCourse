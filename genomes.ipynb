{
 "cells": [
  {
   "cell_type": "code",
   "execution_count": 1,
   "metadata": {},
   "outputs": [],
   "source": [
    "import gzip\n",
    "import random\n",
    "import os\n",
    "import numpy as np\n",
    "import itertools\n",
    "from collections import Counter, defaultdict\n",
    "import matplotlib\n",
    "import matplotlib.pyplot as plt\n",
    "plt.style.use('classic')"
   ]
  },
  {
   "cell_type": "code",
   "execution_count": 2,
   "metadata": {},
   "outputs": [],
   "source": [
    "style = ['Solarize_Light2', '_classic_test_patch', 'bmh', 'classic', 'dark_background', 'fast', 'fivethirtyeight', 'ggplot', 'grayscale', 'seaborn', 'seaborn-bright', 'seaborn-colorblind', 'seaborn-dark', 'seaborn-dark-palette', 'seaborn-darkgrid', 'seaborn-deep', 'seaborn-muted', 'seaborn-notebook', 'seaborn-paper', 'seaborn-pastel', 'seaborn-poster', 'seaborn-talk', 'seaborn-ticks', 'seaborn-white', 'seaborn-whitegrid', 'tableau-colorblind10']"
   ]
  },
  {
   "cell_type": "code",
   "execution_count": 80,
   "metadata": {},
   "outputs": [],
   "source": [
    "alphabet_dna = ['A','C','G','T']"
   ]
  },
  {
   "cell_type": "code",
   "execution_count": 4,
   "metadata": {},
   "outputs": [],
   "source": [
    "def is_header(line):\n",
    "    \"\"\"Check if the line starts with '>'.\"\"\"\n",
    "    return line[0] == '>'\n",
    "\n",
    "\n",
    "def parse_fasta_file(filename):\n",
    "    \"\"\"It reads and returns a name and the sequence from a file (compressed or not).\"\"\"\n",
    "    if filename.endswith('.gz'):\n",
    "        opener = lambda filename: gzip.open(filename, 'rt')\n",
    "    else:\n",
    "        opener = lambda filename: open(filename, 'r')\n",
    "\n",
    "    with opener(filename) as f:\n",
    "        fasta_iter = (it[1] for it in itertools.groupby(f, is_header))\n",
    "        for name in fasta_iter:\n",
    "            name = name.__next__()[1:].strip()\n",
    "            sequences = ''.join(seq.strip() for seq in fasta_iter.__next__())\n",
    "            yield name, sequences"
   ]
  },
  {
   "cell_type": "code",
   "execution_count": 5,
   "metadata": {},
   "outputs": [],
   "source": [
    "def nuc_count(sequence, alphabet):\n",
    "    sequence = sequence.upper()\n",
    "    return {base: sequence.count(base) for base in sequence if base in alphabet}"
   ]
  },
  {
   "cell_type": "code",
   "execution_count": 6,
   "metadata": {},
   "outputs": [],
   "source": [
    "def alternative_bases_counter(sequence):\n",
    "    seq = sequence.upper()\n",
    "    counter = defaultdict(int)\n",
    "    alternative = ['R', 'Y', 'S', 'W', 'K', 'M', 'B', 'D', 'H', 'V', 'N']\n",
    "    for base in seq:\n",
    "        if base in alternative:\n",
    "            counter[base] += 1\n",
    "        else:\n",
    "            counter[base] += 0\n",
    "    return counter"
   ]
  },
  {
   "cell_type": "code",
   "execution_count": 7,
   "metadata": {},
   "outputs": [],
   "source": [
    "def nuc_frequency(sequence, alphabet):\n",
    "    ns = alternative_bases_counter(sequence)\n",
    "    l_seq = len(sequence) - sum(ns.values())\n",
    "    counts = nuc_count(sequence, alphabet)\n",
    "    return {base: (value / l_seq) for base, value in counts.items()}"
   ]
  },
  {
   "cell_type": "code",
   "execution_count": 8,
   "metadata": {},
   "outputs": [],
   "source": [
    "def get_gc_content(sequence):\n",
    "    \"\"\"Returns the gc content of a genome.\"\"\"\n",
    "    len_seq = len(sequence) - sum(alternative_bases_counter(sequence).values())\n",
    "    sequence = sequence.upper()\n",
    "    c = sequence.count('C')\n",
    "    g = sequence.count('G')\n",
    "    return round((c + g) / len_seq, 4)"
   ]
  },
  {
   "cell_type": "code",
   "execution_count": 9,
   "metadata": {},
   "outputs": [],
   "source": [
    "def get_at_content(sequence):\n",
    "    \"\"\"Returns the at content of a genome.\"\"\"\n",
    "    return 1 - get_gc_content(sequence)"
   ]
  },
  {
   "cell_type": "code",
   "execution_count": 10,
   "metadata": {},
   "outputs": [],
   "source": [
    "def get_at_gc_ratio(sequence):\n",
    "    \"\"\"Returns the at/gc ratio of a genome.\"\"\"\n",
    "    return get_at_content(sequence) / get_gc_content(sequence)"
   ]
  },
  {
   "cell_type": "code",
   "execution_count": 11,
   "metadata": {},
   "outputs": [],
   "source": [
    "def get_strand_complement(sequence):\n",
    "    \"\"\"Returns the complement strand of the genome.\"\"\"\n",
    "    seq = sequence.upper()\n",
    "    change = str.maketrans('ACGT', 'TGCA')\n",
    "    return seq.translate(change)"
   ]
  },
  {
   "cell_type": "code",
   "execution_count": 12,
   "metadata": {},
   "outputs": [],
   "source": [
    "def get_reverse_complement(sequence):\n",
    "    \"\"\"Returns the reverse complement strand of the genome.\"\"\"\n",
    "    seq = sequence.upper()\n",
    "    return get_strand_complement(seq)[::-1]"
   ]
  },
  {
   "cell_type": "code",
   "execution_count": 26,
   "metadata": {},
   "outputs": [],
   "source": [
    "def create_random_sequence( alphabet, nuc_freqs, n):\n",
    "    return ''.join(np.random.choice(alphabet, p=nuc_freqs) for _ in range(n))"
   ]
  },
  {
   "cell_type": "code",
   "execution_count": 27,
   "metadata": {},
   "outputs": [],
   "source": [
    "seq1 = create_random_sequence(alphabet_dna, [0.25, 0.25, 0.25, 0.25], 565)"
   ]
  },
  {
   "cell_type": "code",
   "execution_count": 13,
   "metadata": {},
   "outputs": [],
   "source": [
    "def kmer_count(sequence, alphabet, k=1):\n",
    "    seq = sequence.upper()\n",
    "    seq_len = len(seq)\n",
    "    kmers =  [seq[i:i+k] for i in range(0, seq_len - k + 1)]\n",
    "    filterd_kmers = [kmer for kmer in kmers if all(base in set(alphabet) for base in kmer)]\n",
    "    return Counter(filterd_kmers)"
   ]
  },
  {
   "cell_type": "code",
   "execution_count": 14,
   "metadata": {},
   "outputs": [],
   "source": [
    "def print_kmers_stats(sequence, alphabet, start, k):\n",
    "    seq = sequence.upper()\n",
    "    print('  k     k-mers              4^k      N-k+1          missing   repeated')\n",
    "    for k in range(start, k):\n",
    "        kmers = kmer_count(seq, alphabet, k)\n",
    "        print(\"%3d %10d %16d %10d %16d %10d\" % (k, \n",
    "                                                len(kmers), \n",
    "                                                4**k, \n",
    "                                                (len(seq)-1)-k+1, \n",
    "                                                4**k-len(kmers), \n",
    "                                                (len(seq)-1)-k+1-len(kmers)))\n",
    "    return"
   ]
  },
  {
   "cell_type": "code",
   "execution_count": null,
   "metadata": {},
   "outputs": [],
   "source": [
    "print_kmers_stats(seq, alphabet_dna, 3, 25)"
   ]
  },
  {
   "cell_type": "code",
   "execution_count": null,
   "metadata": {},
   "outputs": [],
   "source": [
    "dict_kmer = kmer_count(seq, alphabet_dna, 10)\n",
    "seq_len = len(seq)"
   ]
  },
  {
   "cell_type": "code",
   "execution_count": 15,
   "metadata": {},
   "outputs": [],
   "source": [
    "def kmers_frequency(kmers_dict):\n",
    "    num_kmers = len(kmers_dict.keys())\n",
    "    kmer_freq = defaultdict(float)\n",
    "    for kmer, count in kmers_dict.items():\n",
    "        kmer_freq[kmer] = (count / num_kmers)\n",
    "    return kmer_freq    "
   ]
  },
  {
   "cell_type": "code",
   "execution_count": 16,
   "metadata": {},
   "outputs": [],
   "source": [
    "def kmer_positions(sequence, k):\n",
    "    \"\"\" returns the position of all k-mers in sequence as a dictionary\"\"\"\n",
    "    seq = sequence.upper()\n",
    "    kmer_position = {}\n",
    "    for i in range(1, len(seq) - k + 1):\n",
    "        kmer = seq[i:i+k]\n",
    "        kmer_position[kmer] = kmer_position.get(kmer,[]) + [i]\n",
    "    # combine kmers with their reverse complements\n",
    "    pair_position = {}\n",
    "    for kmer, pos_lst in kmer_position.items():\n",
    "        krev = get_reverse_complement(kmer)\n",
    "        if (kmer < krev):\n",
    "            pair_position[kmer] = sorted(pos_lst + kmer_position.get(krev, []))\n",
    "        elif (krev < kmer):\n",
    "            pair_position[krev] = sorted(kmer_position.get(krev, []) + pos_lst)\n",
    "        else:\n",
    "            pair_position[kmer] = pos_lst\n",
    "    return pair_position"
   ]
  },
  {
   "cell_type": "code",
   "execution_count": 17,
   "metadata": {},
   "outputs": [],
   "source": [
    "def kmers_clumps(sequence, k, w, t):\n",
    "    \"\"\" Find clumps of repeated k-mers in string. A clump occurs when t or more k-mers appear \n",
    "        within a window of size w. A list of (k-mer, position, count) tuples is returned \n",
    "        clumpList = kmers_clumps(seq, 9, 500, 6)\n",
    "        print(len(clumpList))\n",
    "        print([clumpList[i] for i in range(min(20,len(clumpList)))])\n",
    "    \"\"\"\n",
    "    seq = sequence.upper()\n",
    "    clumps = []\n",
    "    kmers = kmer_positions(seq, k)\n",
    "    for kmer, pos in kmers.items():\n",
    "        for start in range(len(pos) - t):\n",
    "            end = start + t - 1\n",
    "            while ((pos[end] - pos[start]) <= w - k):\n",
    "                end += 1\n",
    "                if (end >= len(pos)):\n",
    "                    break\n",
    "            if (end - start >= t):\n",
    "                clumps.append((kmer, pos[start], end - start))\n",
    "    return clumps"
   ]
  },
  {
   "cell_type": "code",
   "execution_count": 18,
   "metadata": {},
   "outputs": [],
   "source": [
    "def check_is_palindrome(sequence, kmer):\n",
    "    \"\"\"Returns True if the sequence is palindromic other wise\n",
    "    False.\"\"\"\n",
    "    seq = sequence.upper()\n",
    "    kmer = kmer.upper()\n",
    "    return seq.find(kmer[::-1]) == 0"
   ]
  },
  {
   "cell_type": "code",
   "execution_count": 19,
   "metadata": {},
   "outputs": [],
   "source": [
    "def get_palindromes(sequence, alphabet, k):\n",
    "    \"\"\"Returns the count of all the palindromic\n",
    "    substrings of a genome.\"\"\"\n",
    "    kmers = list(kmer_count(sequence, alphabet, k).keys())\n",
    "    rev_kmers = [get_reverse_complement(kmer) for kmer in kmers]\n",
    "    palindromes = set()\n",
    "    for mer1, mer2 in zip(kmers, rev_kmers):\n",
    "        if mer1 == mer2:\n",
    "            palindromes.add((mer1, mer2))\n",
    "    return palindromes"
   ]
  },
  {
   "cell_type": "code",
   "execution_count": 20,
   "metadata": {},
   "outputs": [],
   "source": [
    "def get_chunks(sequence, window_size, step=1):\n",
    "    \"\"\"Returns a chunk of length of window_size and the end of the window size\"\"\"\n",
    "    k = len(sequence)\n",
    "    for i in range(0, k - window_size + 1, step):\n",
    "        end = i + window_size\n",
    "        chunk = sequence[i:i + window_size]\n",
    "        assert len(chunk) == window_size\n",
    "        yield chunk, end"
   ]
  },
  {
   "cell_type": "code",
   "execution_count": 21,
   "metadata": {},
   "outputs": [],
   "source": [
    "def gc_skew(sequence):\n",
    "    \"\"\"Finds the genome GC skew.\"\"\"\n",
    "    seq = sequence.upper()\n",
    "    half = len(sequence) // 2\n",
    "    genome = np.frombuffer(seq.encode() + seq.encode(), dtype='uint8')\n",
    "    g = np.concatenate(([0], np.array(genome == ord('G'), dtype='uint8').cumsum()))\n",
    "    c = np.concatenate(([0], np.array(genome == ord('C'), dtype='uint8').cumsum()))\n",
    "    gc = g - c\n",
    "    skew = gc[half:(half + len(sequence))] - gc[0:len(sequence)] + \\\n",
    "           gc[(len(sequence) - half):(2 * len(sequence) - half)] - gc[len(sequence):(2 * len(sequence))]\n",
    "    return skew"
   ]
  },
  {
   "cell_type": "code",
   "execution_count": 22,
   "metadata": {},
   "outputs": [],
   "source": [
    "def get_multinomial_model(sequence, alphabet):\n",
    "    \"\"\"Returns a simple multinomial probabilistic model\"\"\"\n",
    "    return nuc_frequency(sequence, alphabet)"
   ]
  },
  {
   "cell_type": "code",
   "execution_count": 23,
   "metadata": {},
   "outputs": [],
   "source": [
    "def get_markov_model(sequence):\n",
    "    \"\"\"Returns a simple Markov model\"\"\"\n",
    "    alphabet = set(sequence.upper())\n",
    "    mkm = dict()\n",
    "    for i, base in enumerate(alphabet):\n",
    "        intervals = sorted([0] + [random.random() for _ in range(3)] + [1])\n",
    "        probs = [intervals[i+1] - intervals[i] for i in range(4)]\n",
    "        mkm[base] = {base: prob for base, prob in zip(alphabet, probs)}\n",
    "    return mkm"
   ]
  },
  {
   "cell_type": "code",
   "execution_count": 24,
   "metadata": {},
   "outputs": [],
   "source": [
    "def get_top_n_kmers(sequence, k):\n",
    "    kmers = kmer_positions(seq, k)\n",
    "    # find kmers appearing in the most clumps\n",
    "    mer_clump = {}\n",
    "    for kmer, start, clumpSize in clumpList:\n",
    "        mer_clump[kmer] = mer_clump.get(kmer,0) + 1\n",
    "    top10 = [k for k in sorted(mer_clump, reverse=True, key=mer_clump.get)][:9]\n",
    "    return top10"
   ]
  },
  {
   "cell_type": "code",
   "execution_count": 74,
   "metadata": {},
   "outputs": [],
   "source": [
    "def plot_kmer_frequencies(start, kmers, top_10_kmers):\n",
    "    plt.figure(num=None, figsize=(16, 6), dpi=100, facecolor='w', edgecolor='k')\n",
    "    plt.plot([start, start], [0,10], 'r--')\n",
    "    for n, kmer in enumerate(top_10_kmers):\n",
    "        positions = kmers[kmer]\n",
    "        plt.text(1120000, n + 0.4, kmer, fontsize=10)\n",
    "        plt.plot(positions, [n + 0.5 for i in range(len(positions))], 'o', markersize=4.0)\n",
    "    limit = plt.xlim((0,1200000))\n",
    "    plt.title('Most frequent k-mers')\n",
    "    plt.xlabel('Sequence length')\n",
    "    plt.ylabel('Number sequences')\n",
    "    plt.tight_layout()"
   ]
  },
  {
   "cell_type": "code",
   "execution_count": null,
   "metadata": {},
   "outputs": [],
   "source": [
    "def get_bases_stats(sequence, alphabet, start):\n",
    "    \"\"\"Returns the base statistics from diferent strands of a bacterial chromossome.\n",
    "    It shows the difference in C e G composition in the lagg and lead strand\"\"\"\n",
    "    seq = sequence.upper()\n",
    "    seq_len = len(seq)\n",
    "    half_seq = seq_len // 2\n",
    "    ter = start + half_seq\n",
    "    # as a circular genome\n",
    "    if ter > seq_len:\n",
    "        ter = ter - seq_len + 1\n",
    "    counts = defaultdict(int)\n",
    "    for base in alphabet:\n",
    "        total = seq.count(base)\n",
    "        if ter > start:  # start ---> ter\n",
    "            f_count = seq[start:ter].count(base)\n",
    "            r_count = total - f_count\n",
    "        else:  # ter ---> start\n",
    "            r_count = seq[ter:start].count(base)\n",
    "            f_count = total - r_count\n",
    "        counts[base] = (total, f_count, r_count)\n",
    "    return counts\n",
    "            "
   ]
  },
  {
   "cell_type": "code",
   "execution_count": null,
   "metadata": {},
   "outputs": [],
   "source": [
    "def print_strand_stats(sequence, alphabet, start):\n",
    "    strands = get_bases_stats(sequence, start)\n",
    "    for base in alphabet_dna:\n",
    "        total, f_count, r_count = strands[base]\n",
    "        print(f'{base}:\\t{total}\\t{f_count}\\t{r_count}\\t{f_count-r_count}')\n",
    "    return "
   ]
  },
  {
   "cell_type": "code",
   "execution_count": null,
   "metadata": {},
   "outputs": [],
   "source": [
    "def get_gc_strand_difference(sequence, start):\n",
    "    seq = sequence.upper()\n",
    "    seq_len = len(seq)\n",
    "    half = seq_len // 2\n",
    "    ter = start + half\n",
    "    if ter > seq_len:\n",
    "        ter = ter - seq_len + 1\n",
    "    elif ter > star:\n",
    "        g = 2 * seq[start:ter].count('G') - seq.count('G')\n",
    "        c = 2 * seq[start:ter].count('C') - seq.count('C')\n",
    "    else:\n",
    "        g = seq.count('G') - 2 * seq[start:ter].count('G')\n",
    "        c = seq.count('C') - 2 * seq[start:ter].count('C')\n",
    "    return g - c       "
   ]
  },
  {
   "cell_type": "code",
   "execution_count": null,
   "metadata": {},
   "outputs": [],
   "source": [
    "def GC_skew(sequence, n):\n",
    "    x = []\n",
    "    y = []\n",
    "    for i in range(len(sequence), n):\n",
    "        x.append(i)\n",
    "        y.append(get_gc_strand_difference(sequence, i))\n",
    "    return x, y"
   ]
  },
  {
   "cell_type": "code",
   "execution_count": null,
   "metadata": {},
   "outputs": [],
   "source": [
    "def plot_gc_skew(x, y):\n",
    "    \"\"\"Returns a plot of the genome gc skew\n",
    "    input: GC_skew(sequence, n)\"\"\"\n",
    "    plt.figure(num=None, figsize=(24, 7), dpi=100)\n",
    "    yargmax = y.index(max(y))\n",
    "    plt.axvline(oriCStart+oriOffset, color=\"r\", linestyle='--')\n",
    "    plt.axvline(x[yargmax], color=\"g\", linestyle='--')\n",
    "    result = plt.plot(x, y)\n",
    "    print(x[yargmax], y[yargmax])"
   ]
  },
  {
   "cell_type": "code",
   "execution_count": 28,
   "metadata": {},
   "outputs": [
    {
     "name": "stdout",
     "output_type": "stream",
     "text": [
      "colera_v.fasta\tCP000626.fasta\tNC_008457_1.fasta  termo_pet.fasta\r\n"
     ]
    }
   ],
   "source": [
    "!ls Data"
   ]
  },
  {
   "cell_type": "code",
   "execution_count": 29,
   "metadata": {},
   "outputs": [
    {
     "name": "stdout",
     "output_type": "stream",
     "text": [
      "172\n",
      "[('ATCAAAAAT', 566251, 6), ('AACCAGAAC', 922081, 13), ('AACCAGAAC', 922087, 12), ('AACCAGAAC', 922093, 11), ('AACCAGAAC', 922099, 10), ('AACCAGAAC', 922105, 9), ('AACCAGAAC', 922111, 8), ('AACCAGAAC', 922117, 7), ('AACCAGAAC', 922123, 6), ('GCAATAACA', 704433, 6), ('ATGTTATTG', 704432, 6), ('AATAACATC', 704431, 6), ('CTCTCTCTC', 798534, 6), ('AAATCAAAA', 566246, 7), ('AAATCAAAA', 566253, 6), ('AACAGCAAC', 1073066, 21), ('AACAGCAAC', 1073072, 20), ('AACAGCAAC', 1073078, 19), ('AACAGCAAC', 1073084, 18), ('AACAGCAAC', 1073090, 17)]\n"
     ]
    }
   ],
   "source": [
    "filename = 'Data/colera_v.fasta'\n",
    "\n",
    "for name, seq in parse_fasta_file(filename):\n",
    "     clumpList = kmers_clumps(seq, 9, 500, 6)\n",
    "print(len(clumpList))\n",
    "print([clumpList[i] for i in range(min(20,len(clumpList)))])"
   ]
  },
  {
   "cell_type": "code",
   "execution_count": 30,
   "metadata": {},
   "outputs": [
    {
     "name": "stdout",
     "output_type": "stream",
     "text": [
      "  k     k-mers              4^k      N-k+1          missing   repeated\n",
      "  3         64               64    1108247                0    1108183\n",
      "  4        256              256    1108246                0    1107990\n",
      "  5       1024             1024    1108245                0    1107221\n",
      "  6       4096             4096    1108244                0    1104148\n",
      "  7      16382            16384    1108243                2    1091861\n",
      "  8      65099            65536    1108242              437    1043143\n",
      "  9     234316           262144    1108241            27828     873925\n",
      " 10     571913          1048576    1108240           476663     536327\n",
      " 11     870755          4194304    1108239          3323549     237484\n",
      " 12    1009883         16777216    1108238         15767333      98355\n",
      " 13    1056503         67108864    1108237         66052361      51734\n",
      " 14    1070862        268435456    1108236        267364594      37374\n",
      " 15    1075606       1073741824    1108235       1072666218      32629\n",
      " 16    1077604       4294967296    1108234       4293889692      30630\n",
      " 17    1078784      17179869184    1108233      17178790400      29449\n",
      " 18    1079674      68719476736    1108232      68718397062      28558\n",
      " 19    1080421     274877906944    1108231     274876826523      27810\n",
      " 20    1081116    1099511627776    1108230    1099510546660      27114\n",
      " 21    1081776    4398046511104    1108229    4398045429328      26453\n",
      " 22    1082397   17592186044416    1108228   17592184962019      25831\n",
      " 23    1082990   70368744177664    1108227   70368743094674      25237\n",
      " 24    1083559  281474976710656    1108226  281474975627097      24667\n"
     ]
    }
   ],
   "source": [
    "print_kmers_stats(seq, alphabet_dna, 3, 25)"
   ]
  },
  {
   "cell_type": "code",
   "execution_count": 38,
   "metadata": {},
   "outputs": [
    {
     "name": "stdout",
     "output_type": "stream",
     "text": [
      "colera_v.fasta\tCP000626.fasta\tNC_008457_1.fasta  termo_pet.fasta\r\n"
     ]
    }
   ],
   "source": [
    "!ls Data"
   ]
  },
  {
   "cell_type": "code",
   "execution_count": 35,
   "metadata": {},
   "outputs": [],
   "source": [
    "filename2 = 'Data/NC_008457_1.fasta'\n",
    "for name, chr1 in parse_fasta_file(filename2):\n",
    "    genome = chr1"
   ]
  },
  {
   "cell_type": "code",
   "execution_count": 41,
   "metadata": {},
   "outputs": [],
   "source": [
    "oriC = 'atcaatgatcaacgtaagcttctaagcatgatcaaggtgctcacacagtttatccacaac\\\n",
    "    ctgagtggatgacatcaagataggtcgttgtatctccttcctctcgtactctcatgacca\\\n",
    "    cggaaagatgatcaagagaggatgatttcttggccatatcgcaatgaatacttgtgactt\\\n",
    "    gtgcttccaattgacatcttcagcgccatattgcgctggccaaggtgacggagcgggatt\\\n",
    "    acgaaagcatgatcatggctgttgttctgtttatcttgttttgactgagacttgttagga\\\n",
    "    tagacggtttttcatcactgactagccaaagccttactctgcctgacatcgaccgtaaat\\\n",
    "    tgataatgaatttacatgcttccgcgacgatttacctcttgatcatcgatccgattgaag\\\n",
    "    atcttcaattgttaattctcttgcctcgactcatagccatgatgagctcttgatcatgtt\\\n",
    "    tccttaaccctctattttttacggaagaatgatcaagctgctgctcttgatcatcgtttc'"
   ]
  },
  {
   "cell_type": "code",
   "execution_count": 47,
   "metadata": {},
   "outputs": [
    {
     "name": "stdout",
     "output_type": "stream",
     "text": [
      "1 [('T', 174), ('A', 136), ('C', 122), ('G', 108)] \n",
      "\n",
      "2 [('AT', 53), ('TT', 53), ('TC', 48), ('TG', 46), ('GA', 46), ('CT', 44)] \n",
      "\n",
      "3 [('TGA', 25), ('ATC', 21), ('GAT', 19), ('TCA', 17), ('CTT', 17), ('TCT', 16)] \n",
      "\n",
      "4 [('ATGA', 12), ('ATCA', 11), ('TGAT', 11), ('GATC', 9), ('TGAC', 8), ('CTCT', 8)] \n",
      "\n",
      "5 [('TGATC', 8), ('GATCA', 8), ('ATGAT', 7), ('ATCAA', 6), ('TCTTG', 6), ('AATGA', 4)] \n",
      "\n",
      "6 [('TGATCA', 8), ('ATGATC', 5), ('GATCAA', 4), ('ATCAAG', 4), ('GATCAT', 4), ('CTCTTG', 4)] \n",
      "\n",
      "7 [('ATGATCA', 5), ('TGATCAA', 4), ('TGATCAT', 4), ('GATCAAG', 3), ('TGACATC', 3), ('CTCTTGA', 3)] \n",
      "\n",
      "8 [('ATGATCAA', 4), ('TGATCAAG', 3), ('CTCTTGAT', 3), ('TCTTGATC', 3), ('CTTGATCA', 3), ('TTGATCAT', 3)] \n",
      "\n",
      "9 [('ATGATCAAG', 3), ('CTCTTGATC', 3), ('TCTTGATCA', 3), ('CTTGATCAT', 3), ('AATGATCAA', 2), ('AAGCATGAT', 2)] \n",
      "\n"
     ]
    }
   ],
   "source": [
    "for i in range(1, 10):\n",
    "    most_commom = kmer_count(oriC, alphabet_dna, i).most_common(6)\n",
    "    print(i, most_commom, '\\n')"
   ]
  },
  {
   "cell_type": "code",
   "execution_count": 49,
   "metadata": {},
   "outputs": [
    {
     "name": "stdout",
     "output_type": "stream",
     "text": [
      "1 [('A', 185), ('T', 178), ('C', 108), ('G', 86)] \n",
      "\n",
      "2 [('AA', 67), ('TT', 64), ('TA', 57), ('AT', 47), ('AC', 44), ('CT', 36)] \n",
      "\n",
      "3 [('AAA', 29), ('TTT', 24), ('ATT', 24), ('ACC', 20), ('TAC', 19), ('TTA', 18)] \n",
      "\n",
      "4 [('AAAA', 13), ('TACC', 11), ('ACCT', 9), ('TTTT', 9), ('ATTT', 9), ('TATT', 9)] \n",
      "\n",
      "5 [('ACCTA', 6), ('TACCA', 6), ('ACCAC', 6), ('TATTA', 5), ('TGGTA', 5), ('CCTAC', 5)] \n",
      "\n",
      "6 [('TACCAC', 6), ('ACCTAC', 5), ('CCTACC', 5), ('CTACCA', 5), ('GGTGGT', 4), ('GTGGTA', 4)] \n",
      "\n",
      "7 [('ACCTACC', 5), ('CCTACCA', 5), ('CTACCAC', 5), ('GGTGGTA', 4), ('TACCACC', 4), ('TGGTAGG', 3)] \n",
      "\n",
      "8 [('ACCTACCA', 5), ('CCTACCAC', 5), ('TGGTAGGT', 3), ('GGTAGGTT', 3), ('GTAGGTTT', 3), ('AAACCTAC', 3)] \n",
      "\n",
      "9 [('ACCTACCAC', 5), ('TGGTAGGTT', 3), ('GGTAGGTTT', 3), ('AAACCTACC', 3), ('AACCTACCA', 3), ('CCTACCACC', 3)] \n",
      "\n"
     ]
    }
   ],
   "source": [
    "ter_oriC = 'aactctatacctcctttttgtcgaatttgtgtgatttatagagaaaatcttattaactgaaac\\\n",
    "taaaatggtaggtttggtggtaggttttgtgtacattttgtagtatctgatttttaattacat\\\n",
    "accgtatattgtattaaattgacgaacaattgcatggaattgaatatatgcaaaacaaaccta\\\n",
    "ccaccaaactctgtattgaccattttaggacaacttcagggtggtaggtttctgaagctctca\\\n",
    "tcaatagactattttagtctttacaaacaatattaccgttcagattcaagattctacaacgct\\\n",
    "gttttaatgggcgttgcagaaaacttaccacctaaaatccagtatccaagccgatttcagaga\\\n",
    "aacctaccacttacctaccacttacctaccacccgggtggtaagttgcagacattattaaaaa\\\n",
    "cctcatcagaagcttgttcaaaaatttcaatactcgaaacctaccacctgcgtcccctattat\\\n",
    "ttactactactaataatagcagtataattgatctgaaaagaggtggtaaaaaa'\n",
    "    \n",
    "for i in range(1, 10):\n",
    "    most_commom = kmer_count(ter_oriC, alphabet_dna, i).most_common(6)\n",
    "    print(i, most_commom, '\\n')"
   ]
  },
  {
   "cell_type": "code",
   "execution_count": 54,
   "metadata": {},
   "outputs": [
    {
     "name": "stdout",
     "output_type": "stream",
     "text": [
      "172\n",
      "[('ATCAAAAAT', 566251, 6), ('AACCAGAAC', 922081, 13), ('AACCAGAAC', 922087, 12), ('AACCAGAAC', 922093, 11), ('AACCAGAAC', 922099, 10), ('AACCAGAAC', 922105, 9), ('AACCAGAAC', 922111, 8), ('AACCAGAAC', 922117, 7), ('AACCAGAAC', 922123, 6), ('GCAATAACA', 704433, 6), ('ATGTTATTG', 704432, 6), ('AATAACATC', 704431, 6), ('CTCTCTCTC', 798534, 6), ('AAATCAAAA', 566246, 7), ('AAATCAAAA', 566253, 6), ('AACAGCAAC', 1073066, 21), ('AACAGCAAC', 1073072, 20), ('AACAGCAAC', 1073078, 19), ('AACAGCAAC', 1073084, 18), ('AACAGCAAC', 1073090, 17)]\n"
     ]
    }
   ],
   "source": [
    "clumpList = kmers_clumps(seq, 9, 500, 6)\n",
    "print(len(clumpList))\n",
    "print([clumpList[i] for i in range(min(20,len(clumpList)))])"
   ]
  },
  {
   "cell_type": "code",
   "execution_count": 55,
   "metadata": {},
   "outputs": [],
   "source": [
    "top = get_top_n_kmers(seq, 9)"
   ]
  },
  {
   "cell_type": "code",
   "execution_count": 62,
   "metadata": {},
   "outputs": [],
   "source": [
    "kmers = kmer_positions(seq, 9)"
   ]
  },
  {
   "cell_type": "code",
   "execution_count": 58,
   "metadata": {},
   "outputs": [
    {
     "data": {
      "text/plain": [
       "151886"
      ]
     },
     "execution_count": 58,
     "metadata": {},
     "output_type": "execute_result"
    }
   ],
   "source": [
    "oric_start = seq.find('ATCAATGATCAACGTAAGCTTCTAAGCATGATCAAGGTGCTCACACAG')\n",
    "oric_start"
   ]
  },
  {
   "cell_type": "code",
   "execution_count": 76,
   "metadata": {},
   "outputs": [
    {
     "data": {
      "image/png": "[encoded data removed]",
      "text/plain": [
       "<Figure size 1600x600 with 1 Axes>"
      ]
     },
     "metadata": {},
     "output_type": "display_data"
    }
   ],
   "source": [
    "plot_kmer_frequencies(oric_start + 1, kmers, top)\n",
    "plt.savefig('clumps_freq_kmers.pdf', format='pdf', dpi=1200)\n",
    "plt.show()"
   ]
  },
  {
   "cell_type": "code",
   "execution_count": 77,
   "metadata": {},
   "outputs": [],
   "source": [
    "filename2 = 'Data/termo_pet.fasta'\n",
    "for name, ter_seq in parse_fasta_file(filename2):\n",
    "    genome_ter = ter_seq"
   ]
  },
  {
   "cell_type": "code",
   "execution_count": null,
   "metadata": {},
   "outputs": [],
   "source": [
    "print(nuc_count(genome_ter, alphabet_dna))"
   ]
  },
  {
   "cell_type": "code",
   "execution_count": null,
   "metadata": {},
   "outputs": [],
   "source": [
    "ter_oriC_start = 786686\n",
    "oriOffset = 211          # offset to the middle of OriC\n",
    "start = (ter_oric_start + oriOffset)"
   ]
  },
  {
   "cell_type": "code",
   "execution_count": null,
   "metadata": {},
   "outputs": [],
   "source": []
  },
  {
   "cell_type": "code",
   "execution_count": null,
   "metadata": {},
   "outputs": [],
   "source": []
  },
  {
   "cell_type": "code",
   "execution_count": null,
   "metadata": {},
   "outputs": [],
   "source": []
  },
  {
   "cell_type": "code",
   "execution_count": null,
   "metadata": {},
   "outputs": [],
   "source": []
  },
  {
   "cell_type": "code",
   "execution_count": null,
   "metadata": {},
   "outputs": [],
   "source": []
  },
  {
   "cell_type": "code",
   "execution_count": null,
   "metadata": {},
   "outputs": [],
   "source": []
  },
  {
   "cell_type": "code",
   "execution_count": null,
   "metadata": {},
   "outputs": [],
   "source": []
  },
  {
   "cell_type": "code",
   "execution_count": null,
   "metadata": {},
   "outputs": [],
   "source": []
  }
 ],
 "metadata": {
  "kernelspec": {
   "display_name": "Python 3",
   "language": "python",
   "name": "python3"
  },
  "language_info": {
   "codemirror_mode": {
    "name": "ipython",
    "version": 3
   },
   "file_extension": ".py",
   "mimetype": "text/x-python",
   "name": "python",
   "nbconvert_exporter": "python",
   "pygments_lexer": "ipython3",
   "version": "3.7.6"
  }
 },
 "nbformat": 4,
 "nbformat_minor": 4
}
